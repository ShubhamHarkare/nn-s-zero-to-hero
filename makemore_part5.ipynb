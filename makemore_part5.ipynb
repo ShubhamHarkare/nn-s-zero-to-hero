{
 "cells": [
  {
   "cell_type": "code",
   "execution_count": 1,
   "id": "a0af42ae-ee08-4bb1-ba80-ed05ff207729",
   "metadata": {},
   "outputs": [],
   "source": [
    "import torch\n",
    "import torch.nn.functional as F\n",
    "import matplotlib.pyplot as plt\n",
    "import seaborn as sns\n",
    "\n",
    "\n",
    "sns.set()"
   ]
  },
  {
   "cell_type": "code",
   "execution_count": 2,
   "id": "e162af84-84e0-4678-b135-74a433ef2159",
   "metadata": {},
   "outputs": [
    {
     "data": {
      "text/plain": [
       "['emma', 'olivia', 'ava', 'isabella', 'sophia', 'charlotte', 'mia', 'amelia']"
      ]
     },
     "execution_count": 2,
     "metadata": {},
     "output_type": "execute_result"
    }
   ],
   "source": [
    "words = open('names.txt','r').read().splitlines()\n",
    "words[:8]"
   ]
  },
  {
   "cell_type": "code",
   "execution_count": 3,
   "id": "a0a8e121-2a8c-4970-b75f-db3c2e0d9685",
   "metadata": {},
   "outputs": [],
   "source": [
    "chars = sorted(list(set(''.join(words))))\n",
    "stoi = {s:i+1 for i,s in enumerate(chars)}\n",
    "stoi['.'] = 0\n",
    "itos = {i:s for s,i in stoi.items()}"
   ]
  },
  {
   "cell_type": "markdown",
   "id": "07c8b384-4264-4217-86db-bb604b18fb9f",
   "metadata": {},
   "source": [
    "### Splitting dataset into training,validation and test"
   ]
  },
  {
   "cell_type": "code",
   "execution_count": 46,
   "id": "c31a3cae-26f6-4b13-8404-82eea29987fe",
   "metadata": {},
   "outputs": [],
   "source": [
    "def build_dataset(words:list):\n",
    "    '''Seperates the data into training, test and validation'''\n",
    "    block_size = 8 # Context Length: How many characters we take as input to predict the output \n",
    "    X,Y = [],[]\n",
    "    \n",
    "    for w in words:\n",
    "        #print(w)\n",
    "        context = [0] * block_size\n",
    "        for ch in w + '.':\n",
    "            ix = stoi[ch]\n",
    "            X.append(context)\n",
    "            Y.append(ix)\n",
    "            #print(''.join(itos[i] for i in context), '---->', itos[ix])\n",
    "            context = context[1:] + [ix]\n",
    "    X = torch.tensor(X)\n",
    "    Y = torch.tensor(Y)\n",
    "    return X,Y\n",
    "\n",
    "import random\n",
    "random.seed(42)\n",
    "random.shuffle(words)\n",
    "n1 = int(0.8*len(words))\n",
    "n2 = int(0.9*len(words))\n",
    "Xtr,Ytr = build_dataset(words[:n1])\n",
    "Xdev,Ydev = build_dataset(words[n1:n2])\n",
    "Xte,Yte = build_dataset(words[n2:])"
   ]
  },
  {
   "cell_type": "code",
   "execution_count": 48,
   "id": "6ce3d28b-3c0a-43ad-ac70-3e21ff2d5a18",
   "metadata": {},
   "outputs": [
    {
     "name": "stdout",
     "output_type": "stream",
     "text": [
      "Training examples shapes: torch.Size([182580, 8]),torch.Size([182580])\n",
      "Validation examples shapes: torch.Size([22767, 8]),torch.Size([22767])\n",
      "Testing examples shapes: torch.Size([22799, 8]),torch.Size([22799])\n"
     ]
    }
   ],
   "source": [
    "print(f'Training examples shapes: {Xtr.shape},{Ytr.shape}')\n",
    "print(f'Validation examples shapes: {Xdev.shape},{Ydev.shape}')\n",
    "print(f'Testing examples shapes: {Xte.shape},{Yte.shape}')"
   ]
  },
  {
   "cell_type": "markdown",
   "id": "1b088520-b338-449a-a3d8-6a6d2b74e84d",
   "metadata": {},
   "source": [
    "### `PyTorch` code"
   ]
  },
  {
   "cell_type": "code",
   "execution_count": 8,
   "id": "5fe1c1a5-ac74-475e-b5bd-56b691ec63db",
   "metadata": {},
   "outputs": [],
   "source": [
    "class Linear:\n",
    "    def __init__(self,fan_in:int,fan_out:int,bias:bool = True):\n",
    "        self.weight = torch.randn((fan_in,fan_out),generator = g) / fan_in**0.5\n",
    "        self.bias = torch.zeros(fan_out) if bias is True else None\n",
    "\n",
    "    def __call__(self,x):\n",
    "        self.out = x @ self.weight\n",
    "        if self.bias is not None:\n",
    "            self.out += self.bias\n",
    "        return self.out\n",
    "\n",
    "    def parameters(self):\n",
    "        return [self.weight] + ([] if self.bias is None else [self.bias])"
   ]
  },
  {
   "cell_type": "code",
   "execution_count": 84,
   "id": "58fb4096-413d-47a5-b502-c3a9e4b20e1e",
   "metadata": {},
   "outputs": [],
   "source": [
    "class BatchNormalization:\n",
    "    def __init__(self,dim,eps = 1e-5, momentum = 0.1):\n",
    "        self.eps = eps\n",
    "        self.momentum = momentum\n",
    "        self.training = True\n",
    "\n",
    "        # Parameters: Trained during Back-Propogation\n",
    "        self.gamma = torch.ones(dim)\n",
    "        self.beta = torch.zeros(dim)\n",
    "\n",
    "        # Parameters: Updated using running mean and std\n",
    "        self.running_mean = torch.zeros(dim)\n",
    "        self.running_var = torch.ones(dim)\n",
    "\n",
    "    def __call__(self,x):\n",
    "        # Calculate the forward pass\n",
    "        if self.training:\n",
    "            if x.ndim == 2:\n",
    "                dim = 0\n",
    "            elif x.ndim == 3:\n",
    "                dim = (0,1)\n",
    "                \n",
    "            xmean = x.mean(dim,keepdim = True)\n",
    "            xvar = x.var(dim, keepdim = True, unbiased = True)\n",
    "        else:\n",
    "            xmean = self.running_mean\n",
    "            xvar = self.running_var\n",
    "        xhat = (x - xmean) / torch.sqrt(xvar + self.eps) # Normalization to unit variance\n",
    "        self.out = self.gamma * xhat + self.beta\n",
    "\n",
    "        # Updating the running mean and variance\n",
    "        if self.training:\n",
    "            with torch.no_grad():\n",
    "                self.running_mean = (1 - self.momentum) * self.running_mean + self.momentum * xmean\n",
    "                self.running_var = (1 - self.momentum) * self.running_var + self.momentum * xvar\n",
    "        return self.out\n",
    "\n",
    "    def parameters(self):\n",
    "        return [self.gamma , self.beta]"
   ]
  },
  {
   "cell_type": "code",
   "execution_count": 86,
   "id": "a95be6e5-1855-4bac-8ee1-7767c6d42449",
   "metadata": {},
   "outputs": [],
   "source": [
    "class Tanh:\n",
    "    def __call__(self, x):\n",
    "        self.out = torch.tanh(x)\n",
    "        return self.out\n",
    "\n",
    "    def parameters(self):\n",
    "        return []"
   ]
  },
  {
   "cell_type": "code",
   "execution_count": 88,
   "id": "3f3ed47e-1f74-483d-80bb-a9de449f3374",
   "metadata": {},
   "outputs": [],
   "source": [
    "class Embedding:\n",
    "    def __init__(self,num_embedding,embedding_dim):\n",
    "        self.weights = torch.randn((num_embedding,embedding_dim))\n",
    "\n",
    "    def __call__(self,ix):\n",
    "        self.out = self.weights[ix]\n",
    "        return self.out\n",
    "\n",
    "    def parameters(self):\n",
    "        return [self.weights]"
   ]
  },
  {
   "cell_type": "code",
   "execution_count": 90,
   "id": "08b38656-79b5-428b-aab2-b8ef969b4c26",
   "metadata": {},
   "outputs": [],
   "source": [
    "class Flatten:\n",
    "    def __init__(self,n):\n",
    "        self.n = n\n",
    "    def __call__(self,x):\n",
    "        B,T,C = x.shape\n",
    "        x = x.view(B,T//self.n,C*self.n)\n",
    "        if x.shape[1] == 1:\n",
    "            x = x.squeeze(1)\n",
    "        self.out = x\n",
    "        return self.out\n",
    "\n",
    "    def parameters(self):\n",
    "        return []"
   ]
  },
  {
   "cell_type": "code",
   "execution_count": 92,
   "id": "805a8c74-d7ea-4ee9-b765-1c47254f4531",
   "metadata": {},
   "outputs": [],
   "source": [
    "class Sequential:\n",
    "    def __init__(self,layers):\n",
    "        self.layers = layers\n",
    "\n",
    "    def __call__(self,x):\n",
    "        for layer in self.layers:\n",
    "            x = layer(x)\n",
    "        return x\n",
    "\n",
    "    def parameters(self):\n",
    "        return [p for layer in  self.layers for p in layer.parameters()]"
   ]
  },
  {
   "cell_type": "code",
   "execution_count": 94,
   "id": "c5ca50e7-4d26-490d-8ffa-f71701a9e23e",
   "metadata": {},
   "outputs": [
    {
     "name": "stdout",
     "output_type": "stream",
     "text": [
      "170897\n"
     ]
    }
   ],
   "source": [
    "n_embed = 10\n",
    "n_hidden = 200\n",
    "vocab_size = 27\n",
    "batch_size = 32\n",
    "max_steps = 200000\n",
    "block_size = 8\n",
    "g = torch.Generator().manual_seed(231212121)\n",
    "C = torch.randn((vocab_size,n_embed))\n",
    "\n",
    "\n",
    "layers = [\n",
    "    Embedding(vocab_size,n_embed), Flatten(2),\n",
    "    Linear(n_embed * 2, n_hidden, bias=False), BatchNormalization(n_hidden), Tanh(),\n",
    "    Flatten(2),\n",
    "    Linear(n_hidden * 2, n_hidden, bias=False), BatchNormalization(n_hidden), Tanh(),\n",
    "    Flatten(2),\n",
    "    Linear(n_hidden * 2, n_hidden, bias=False), BatchNormalization(n_hidden), Tanh(),\n",
    "    Linear(n_hidden,vocab_size)\n",
    "]\n",
    "model = Sequential(layers)\n",
    "with torch.no_grad():\n",
    "    layers[-1].weight *= 0.1\n",
    "\n",
    "# parameters = [p for layer in layers for p in layer.parameters()] \n",
    "parameters = model.parameters()\n",
    "print(sum(p.nelement() for p in parameters))\n",
    "for p in parameters:\n",
    "    p.requires_grad = True"
   ]
  },
  {
   "cell_type": "code",
   "execution_count": 96,
   "id": "e907d939-4877-4829-b58c-064a6e973c09",
   "metadata": {},
   "outputs": [
    {
     "name": "stdout",
     "output_type": "stream",
     "text": [
      "0/200000 -> 3.292901039123535\n",
      "10000/200000 -> 2.767216920852661\n",
      "20000/200000 -> 1.8124513626098633\n",
      "30000/200000 -> 2.5276834964752197\n",
      "40000/200000 -> 1.9392105340957642\n",
      "50000/200000 -> 1.7606474161148071\n",
      "60000/200000 -> 2.2816591262817383\n",
      "70000/200000 -> 2.4296116828918457\n",
      "80000/200000 -> 1.824960470199585\n",
      "90000/200000 -> 1.79444420337677\n",
      "100000/200000 -> 1.7063236236572266\n",
      "110000/200000 -> 1.9925034046173096\n",
      "120000/200000 -> 1.9345124959945679\n",
      "130000/200000 -> 1.7779371738433838\n",
      "140000/200000 -> 2.090541362762451\n",
      "150000/200000 -> 1.2573256492614746\n",
      "160000/200000 -> 1.8015612363815308\n",
      "170000/200000 -> 1.8979436159133911\n",
      "180000/200000 -> 1.9834332466125488\n",
      "190000/200000 -> 1.5732636451721191\n"
     ]
    }
   ],
   "source": [
    "\n",
    "losses = []\n",
    "\n",
    "for i in range(max_steps):\n",
    "    # Mini-batch construct\n",
    "    ix = torch.randint(0,Xtr.shape[0],(batch_size, ), generator = g)\n",
    "    Xb,yb = Xtr[ix],Ytr[ix]\n",
    "\n",
    "    # ----- FORWARD PASS ----- #\n",
    "    # emb = C[Xb] # Embed the characters into vectors\n",
    "    # x = emb.view(emb.shape[0],-1) # Reshape the embedding vector into 2-dimensional matrix\n",
    "    x = Xb\n",
    "    # for layer in layers:\n",
    "    #     x = layer(x)\n",
    "    x = model(x)\n",
    "    loss = F.cross_entropy(x,yb) # Categorical Cross-Entropy as the loss function\n",
    "\n",
    "    # ----- BACKWARD PASS ----- #\n",
    "    # for layer in layers:\n",
    "    #     layer.out.retain_grad()\n",
    "    for p in parameters:\n",
    "        p.grad = None\n",
    "    loss.backward()\n",
    "\n",
    "    # ----- UPDATE ----- #\n",
    "    lr = 0.1 if i < (max_steps // 2) else 0.01\n",
    "    for p in parameters:\n",
    "        p.data -= lr * p.grad\n",
    "        # print(type(p.data),type(p.grad))\n",
    "\n",
    "    # ----- PRINTING LOSS ----- #\n",
    "    if (i % 10000 == 0):\n",
    "        print(f'{i}/{max_steps} -> {loss.item()}')\n",
    "    losses.append(loss.log10().item())\n",
    "    # break"
   ]
  },
  {
   "cell_type": "code",
   "execution_count": 97,
   "id": "564e45ac-1865-4ac8-bc30-818ced6b846f",
   "metadata": {},
   "outputs": [
    {
     "data": {
      "text/plain": [
       "[<matplotlib.lines.Line2D at 0x16b90e600>]"
      ]
     },
     "execution_count": 97,
     "metadata": {},
     "output_type": "execute_result"
    },
    {
     "data": {
      "image/png": "[encoded data removed]",
      "text/plain": [
       "<Figure size 640x480 with 1 Axes>"
      ]
     },
     "metadata": {},
     "output_type": "display_data"
    }
   ],
   "source": [
    "plt.plot(torch.tensor(losses).view(-1,1000).mean(1))"
   ]
  },
  {
   "cell_type": "code",
   "execution_count": 98,
   "id": "c7a48ae1-386e-42ac-9b05-e2c2a6587bae",
   "metadata": {},
   "outputs": [],
   "source": [
    "for layer in layers:\n",
    "    layer.training = False"
   ]
  },
  {
   "cell_type": "code",
   "execution_count": 99,
   "id": "54228516-6b3d-41c3-90b8-df5249f65cf7",
   "metadata": {},
   "outputs": [
    {
     "name": "stdout",
     "output_type": "stream",
     "text": [
      "train 1.7600356340408325\n",
      "val 1.9975627660751343\n"
     ]
    }
   ],
   "source": [
    "@torch.no_grad()\n",
    "def split_loss(split:str):\n",
    "    x,y = {\n",
    "        'train':(Xtr,Ytr),\n",
    "        'val':(Xdev,Ydev),\n",
    "        'test':(Xte,Yte)\n",
    "    }[split]\n",
    "    # emb = C[x]\n",
    "    \n",
    "    # x = emb.view(emb.shape[0],-1)\n",
    "    # for layer in layers:\n",
    "    #     x = layer(x)\n",
    "    x = model(x)\n",
    "    loss = F.cross_entropy(x,y)\n",
    "    print(split,loss.item())\n",
    "\n",
    "split_loss('train')\n",
    "split_loss('val')"
   ]
  },
  {
   "cell_type": "markdown",
   "id": "2f497fa0-dbf3-4f2c-b09e-1daf4cafea99",
   "metadata": {},
   "source": [
    "## Predictions from the model"
   ]
  },
  {
   "cell_type": "code",
   "execution_count": 105,
   "id": "401a4d43-4ff6-4f63-be13-365b9bb0fa80",
   "metadata": {},
   "outputs": [
    {
     "name": "stdout",
     "output_type": "stream",
     "text": [
      "tigigley.\n",
      "azalyn.\n",
      "jareth.\n",
      "aruret.\n",
      "tahan.\n",
      "adilynn.\n",
      "aaria.\n",
      "rowen.\n",
      "michel.\n",
      "erick.\n"
     ]
    }
   ],
   "source": [
    "for layer in model.layers:\n",
    "    layer.training = False\n",
    "\n",
    "for _ in range(10):\n",
    "    out = []\n",
    "    context = [0]*block_size\n",
    "    while True:\n",
    "        # emb = C[torch.tensor([context])]\n",
    "        # x = emb.view(emb.shape[0],-1)\n",
    "        # x = torch.tensor([context])\n",
    "        # for layer in layers:\n",
    "        #     x = layer(x)\n",
    "        logits = model(torch.tensor([context]))\n",
    "        probs = F.softmax(logits,dim=1)\n",
    "        ix = torch.multinomial(probs,num_samples = 1).item()\n",
    "        context = context[1:] + [ix]\n",
    "        out.append(ix)\n",
    "\n",
    "        if ix == 0:\n",
    "            break\n",
    "    print(''.join(itos[i] for i in out))"
   ]
  },
  {
   "cell_type": "code",
   "execution_count": null,
   "id": "2e35bcf5-35b4-4770-8991-8013c41b9f19",
   "metadata": {},
   "outputs": [],
   "source": []
  },
  {
   "cell_type": "code",
   "execution_count": null,
   "id": "b7cdc01f-5067-4faf-9361-78ef971df9c7",
   "metadata": {},
   "outputs": [],
   "source": []
  }
 ],
 "metadata": {
  "kernelspec": {
   "display_name": "Python [conda env:base] *",
   "language": "python",
   "name": "conda-base-py"
  },
  "language_info": {
   "codemirror_mode": {
    "name": "ipython",
    "version": 3
   },
   "file_extension": ".py",
   "mimetype": "text/x-python",
   "name": "python",
   "nbconvert_exporter": "python",
   "pygments_lexer": "ipython3",
   "version": "3.12.7"
  }
 },
 "nbformat": 4,
 "nbformat_minor": 5
}
