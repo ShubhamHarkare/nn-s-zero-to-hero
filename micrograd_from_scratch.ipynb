{
 "cells": [
  {
   "cell_type": "code",
   "execution_count": 1,
   "id": "4419dba2-1cdb-4cea-bdca-ad5d276a3be0",
   "metadata": {},
   "outputs": [],
   "source": [
    "import numpy as np\n",
    "import matplotlib.pyplot as plt\n",
    "import math\n",
    "from graphviz import Digraph\n",
    "import torch\n"
   ]
  },
  {
   "cell_type": "code",
   "execution_count": 2,
   "id": "95850b30-8b29-4953-be98-ffe9fedd5242",
   "metadata": {},
   "outputs": [],
   "source": [
    "def f(x):\n",
    "    return 3*x**2 + 4*x + 5"
   ]
  },
  {
   "cell_type": "code",
   "execution_count": 3,
   "id": "17dd6560-48db-4b0b-a23b-fc37e2e6a709",
   "metadata": {},
   "outputs": [
    {
     "data": {
      "text/plain": [
       "[<matplotlib.lines.Line2D at 0x13b086c90>]"
      ]
     },
     "execution_count": 3,
     "metadata": {},
     "output_type": "execute_result"
    },
    {
     "data": {
      "image/png": "[encoded data removed]",
      "text/plain": [
       "<Figure size 640x480 with 1 Axes>"
      ]
     },
     "metadata": {},
     "output_type": "display_data"
    }
   ],
   "source": [
    "xs = np.arange(-5,5,0.25)\n",
    "ys = f(xs)\n",
    "plt.plot(xs,ys)"
   ]
  },
  {
   "cell_type": "code",
   "execution_count": 4,
   "id": "b942322d-33c7-4d29-93e3-005bf6adcd24",
   "metadata": {},
   "outputs": [],
   "source": [
    "class Value:\n",
    "    def __init__(self,data, _children: tuple = (), _op = ''):\n",
    "        self.data = data\n",
    "        self._prev = set(_children)\n",
    "        self.grad = 0.0\n",
    "        self._op = _op\n",
    "        self._backward = lambda: None # Stores how we are going to back-propogate the derivatve\n",
    "    def __repr__(self):\n",
    "        return f'Value(data = {self.data}) | Grad(grad = {self.grad})'\n",
    "\n",
    "    def __add__(self,other):\n",
    "        other = other if isinstance(other, Value) else Value(other)\n",
    "        out = Value(self.data + other.data,(self,other), '+')\n",
    "\n",
    "        def _backward():\n",
    "            '''Function to backpropogate the derivative of the loss function'''\n",
    "            self.grad += 1 * out.grad\n",
    "            other.grad +=  1 * out.grad \n",
    "        out._backward = _backward\n",
    "        return out\n",
    "\n",
    "    def __radd__(self,other):\n",
    "        return self + other\n",
    "    def __mul__(self,other):\n",
    "        other = other if isinstance(other, Value) else Value(other)\n",
    "        out =  Value(self.data * other.data, (self,other), '*')\n",
    "        def _backward():\n",
    "            self.grad += other.data * out.grad\n",
    "            other.grad += self.data * out.grad\n",
    "        out._backward = _backward \n",
    "        return out\n",
    "\n",
    "    def __rmul__(self,other):\n",
    "        return self * other\n",
    "\n",
    "    def __truediv__(self,other):\n",
    "        return self * other**-1\n",
    "\n",
    "    def __pow__(self,other):\n",
    "        assert isinstance(other,(int,float)), 'only supporting int/float powers'\n",
    "        out = Value(self.data ** other, (self,),f'**{other}')\n",
    "        def _backward():\n",
    "            '''Gradient calculation for backpropogation'''\n",
    "            self.grad += other*(self.data**(other - 1))*out.grad\n",
    "        out._backward = _backward\n",
    "        return out\n",
    "\n",
    "    def __neg__(self):\n",
    "        return self * -1\n",
    "\n",
    "    def __sub__(self,other):\n",
    "        return self + (other * -1)\n",
    "\n",
    "    def tanh(self):\n",
    "        t = (np.exp(2 * self.data) - 1) / (np.exp(2 * self.data) + 1)\n",
    "        out =  Value(t,(self,),'tanh')\n",
    "\n",
    "        def _backward():\n",
    "            self.grad += (1 - t**2)*out.grad \n",
    "        out._backward = _backward\n",
    "        return out\n",
    "    def exp(self):\n",
    "        x = self.data\n",
    "        out = Value(math.exp(x),(self,),'exp')\n",
    "\n",
    "        def _backward():\n",
    "            self.grad += out.data * out.grad\n",
    "        out._backward = _backward\n",
    "\n",
    "        return out\n",
    "    def backward(self):\n",
    "        \n",
    "        topo = []\n",
    "        visited = set()\n",
    "        def buildtopo(v):\n",
    "            if v not in visited:\n",
    "                visited.add(v)\n",
    "                for child in v._prev:\n",
    "                    buildtopo(child)\n",
    "                topo.append(v)\n",
    "        buildtopo(self)\n",
    "        self.grad = 1.0\n",
    "        for node in reversed(topo):\n",
    "            node._backward()\n",
    "\n",
    "        "
   ]
  },
  {
   "cell_type": "code",
   "execution_count": 5,
   "id": "65c9c5b1-5686-44a5-91a7-bafa55b26936",
   "metadata": {},
   "outputs": [
    {
     "data": {
      "text/plain": [
       "Value(data = -2.0) | Grad(grad = 0.0)"
      ]
     },
     "execution_count": 5,
     "metadata": {},
     "output_type": "execute_result"
    }
   ],
   "source": [
    "a = Value(2.0) \n",
    "b = Value(4.0)\n",
    "# c = Value(10.0)\n",
    "# e = a*b\n",
    "# d = e + c\n",
    "# f = Value(-2.0)\n",
    "# L = d*f\n",
    "# print(L)\n",
    "a-b"
   ]
  },
  {
   "cell_type": "code",
   "execution_count": null,
   "id": "be3cfab1-4149-4bcc-8784-e66057b5ced1",
   "metadata": {},
   "outputs": [],
   "source": []
  },
  {
   "cell_type": "markdown",
   "id": "6d24a248-03ec-4cc6-8ae9-3beae84baaff",
   "metadata": {
    "jp-MarkdownHeadingCollapsed": true
   },
   "source": [
    "# Graphviz for diagrams"
   ]
  },
  {
   "cell_type": "code",
   "execution_count": null,
   "id": "2eeb121a-124d-4d37-9fe4-ba0e92a91485",
   "metadata": {},
   "outputs": [],
   "source": [
    "def trace(root):\n",
    "    nodes,edges = set(),set()\n",
    "    def build(v):\n",
    "        if v not in nodes:\n",
    "            nodes.add(v)\n",
    "            for child in v._prev:\n",
    "                edges.add((child,v))\n",
    "                build(child)\n",
    "    build(root)\n",
    "    return nodes,edges\n",
    "\n",
    "def draw_dot(root):\n",
    "    dot = Digraph(format = 'svg',graph_attr = {'rankdir':'LR'})\n",
    "\n",
    "    nodes,edges = trace(root)\n",
    "    for n in nodes:\n",
    "        uid = str(id(n))\n",
    "        dot.node(name = uid,label=\"{ data %.4f | grad %.4f}\" % (n.data,n.grad), shape='record')\n",
    "        if n._op:\n",
    "            dot.node(name = uid + n._op, label = n._op)\n",
    "            dot.edge(uid + n._op, uid)\n",
    "    for n1,n2 in edges:\n",
    "        dot.edge(str(id(n1)),str(id(n2)) + n2._op)\n",
    "    return dot"
   ]
  },
  {
   "cell_type": "code",
   "execution_count": null,
   "id": "912892a3-7af3-4987-b515-e835f6ba00a9",
   "metadata": {},
   "outputs": [],
   "source": [
    "L.grad = 1.0"
   ]
  },
  {
   "cell_type": "markdown",
   "id": "40bff516-155c-47bd-835e-0d84318810ce",
   "metadata": {
    "jp-MarkdownHeadingCollapsed": true
   },
   "source": [
    "# Derivatives"
   ]
  },
  {
   "cell_type": "markdown",
   "id": "277bb864-0353-46ef-ab1a-eb9a1fbd8e9b",
   "metadata": {},
   "source": [
    "\n",
    "Derivative of a function is given by:\n",
    "$$\\lim_{h \\to 0} f'(x) = \\frac{f(x+h) - f(x)}{h}$$\n",
    "\n",
    "- Now for our expressions\n",
    "$$e = a \\times b$$\n",
    "$$d = e + c$$\n",
    "$$L = d \\times f$$\n",
    "\n",
    "- The derivaties for each and every variable will be given by\n",
    "\n",
    "$$\n",
    "\\frac{\\delta L}{\\delta L} = 1\n",
    "$$\n",
    "\n",
    "\n",
    "$$\n",
    "\\frac{\\delta L}{\\delta f} = d\n",
    "$$\n",
    "\n",
    "$$\n",
    "\\frac{\\delta L}{\\delta d} = f\n",
    "$$\n",
    "\n",
    "$$\n",
    "\\frac{\\delta L}{\\delta e} = \\frac{\\delta L}{\\delta d} \\times \\frac{\\delta d}{\\delta e} = f\n",
    "$$\n",
    "\n",
    "$$\n",
    "\\frac{\\delta L}{\\delta c} = \\frac{\\delta L}{\\delta d} \\times \\frac{\\delta d}{\\delta c} = f\n",
    "$$\n",
    "\n",
    "$$\n",
    "\\frac{\\delta L}{\\delta a} = \\frac{\\delta L}{\\delta d} \\times \\frac{\\delta d}{\\delta e} \\times \\frac{\\delta e}{\\delta a} = f \\times b\n",
    "$$\n",
    "\n",
    "$$\n",
    "\\frac{\\delta L}{\\delta b} = \\frac{\\delta L}{\\delta d} \\times \\frac{\\delta d}{\\delta e} \\times \\frac{\\delta e}{\\delta b} = f \\times a\n",
    "$$"
   ]
  },
  {
   "cell_type": "code",
   "execution_count": null,
   "id": "6dcbf466-d050-4acb-b4c6-d69d26b5102e",
   "metadata": {},
   "outputs": [],
   "source": [
    "d.grad = f.data\n",
    "f.grad = d.data\n",
    "e.grad = f.data\n",
    "c.grad = f.data\n",
    "b.grad = f.data*a.data\n",
    "a.grad = f.data * b.data"
   ]
  },
  {
   "cell_type": "markdown",
   "id": "8e12c0ef-c032-4dcc-a4e8-95c429ad89a8",
   "metadata": {
    "jp-MarkdownHeadingCollapsed": true
   },
   "source": [
    "# Backpropogation without the function"
   ]
  },
  {
   "cell_type": "code",
   "execution_count": null,
   "id": "e900ac14-7f2d-40c7-a6bd-14f959a5fa17",
   "metadata": {},
   "outputs": [],
   "source": [
    "x1 = Value(2.0)\n",
    "x2 = Value(0.0)\n",
    "w1 = Value(-3.0)\n",
    "w2 = Value(1.0)\n",
    "b = Value(6.88137)\n",
    "\n",
    "x1w1 = x1*w1\n",
    "x2w2 = x2*w2\n",
    "x1w1x2w2 = x1w1 + x2w2\n",
    "n = x1w1x2w2 + b\n",
    "o = n.tanh()"
   ]
  },
  {
   "cell_type": "code",
   "execution_count": null,
   "id": "e77c8676-41f1-43a0-a44b-f46c8af1ccd3",
   "metadata": {},
   "outputs": [],
   "source": [
    "print(o)"
   ]
  },
  {
   "cell_type": "code",
   "execution_count": null,
   "id": "cdf50af7-24b1-4806-b487-d5266b2d79af",
   "metadata": {},
   "outputs": [],
   "source": [
    "o.grad = 1.0"
   ]
  },
  {
   "cell_type": "markdown",
   "id": "2fc9a934-d7f0-48de-bb91-0da37f9a06d6",
   "metadata": {},
   "source": [
    "## $tanh$ Derivative\n",
    "\n",
    "- The function for tanh is given by:\n",
    "$$\n",
    "f(x) = \\frac{e^{2x} - 1}{e^{2x} + 1}\n",
    "$$\n",
    "\n",
    "- The derivative of $\\mathbf{tanh}$ is given by\n",
    "$$\n",
    "f'(x) = 1 - f^{2}(x)\n",
    "$$\n",
    "\n",
    "\n",
    "\n",
    "\n"
   ]
  },
  {
   "cell_type": "code",
   "execution_count": null,
   "id": "5924872c-99ff-437a-8759-99c6f75969bd",
   "metadata": {},
   "outputs": [],
   "source": [
    "n.grad = 1 - o.data**2"
   ]
  },
  {
   "cell_type": "markdown",
   "id": "aacc2e7f-27d5-436c-80c3-ec267a9c64ce",
   "metadata": {},
   "source": [
    "## Neuron\n",
    "\n",
    "- For our neuron the equation given are\n",
    "\n",
    "$$\n",
    "n = x_1w_1 + x_2w_2 + b\n",
    "$$\n",
    "$$\n",
    "o = tanh(n)\n",
    "$$\n",
    "\n",
    "- Therefore the derivatives of each and every line is given by\n",
    "\n",
    "$$\n",
    "\\frac{\\delta o}{\\delta o} = 1\n",
    "$$\n",
    "\n",
    "$$\n",
    "\\frac{\\delta o}{\\delta n} = 1 - o^2\n",
    "$$\n",
    "\n",
    "$$\n",
    "\\frac{\\delta o}{\\delta w_1} = \\frac{\\delta o}{\\delta n} \\times \\frac{\\delta n}{\\delta w_1} = (1 - o^2) \\times x_1\n",
    "$$\n",
    "\n",
    "\n",
    "$$\n",
    "\\frac{\\delta o}{\\delta w_2} = \\frac{\\delta o}{\\delta n} \\times \\frac{\\delta n}{\\delta w_2} = (1 - o^2) \\times x_2\n",
    "$$\n",
    "\n",
    "$$\n",
    "\\frac{\\delta o}{\\delta b} = \\frac{\\delta o}{\\delta n} \\times \\frac{\\delta n}{\\delta b} = (1 - o^2)\n",
    "$$\n",
    "\n",
    "\n"
   ]
  },
  {
   "cell_type": "code",
   "execution_count": null,
   "id": "f58c6bcb-0e74-489c-8405-787cc321e0f1",
   "metadata": {},
   "outputs": [],
   "source": [
    "b.grad = n.grad\n",
    "w1.grad = n.grad * x1.data\n",
    "w2.grad = n.grad * x2.data"
   ]
  },
  {
   "cell_type": "code",
   "execution_count": null,
   "id": "b84973e5-b89f-44fa-b6da-c4e5703d59bd",
   "metadata": {},
   "outputs": [],
   "source": [
    "x1.grad = n.grad * w1.data\n",
    "x2.grad = n.grad * w2.data"
   ]
  },
  {
   "cell_type": "code",
   "execution_count": null,
   "id": "ee657d83-c49d-49e6-9013-b40ae6dc86ca",
   "metadata": {},
   "outputs": [],
   "source": [
    "print(w1,w2)"
   ]
  },
  {
   "cell_type": "code",
   "execution_count": null,
   "id": "465486e6-9bfe-43b4-8b89-d11996c3948a",
   "metadata": {},
   "outputs": [],
   "source": [
    "o._backward()"
   ]
  },
  {
   "cell_type": "code",
   "execution_count": null,
   "id": "da5c36d5-9677-42cb-ad28-639b2ede58a0",
   "metadata": {},
   "outputs": [],
   "source": [
    "n.grad"
   ]
  },
  {
   "cell_type": "markdown",
   "id": "cba99d66-5969-473f-8933-29a820b566ae",
   "metadata": {
    "jp-MarkdownHeadingCollapsed": true
   },
   "source": [
    "# Backpropogation with the function"
   ]
  },
  {
   "cell_type": "code",
   "execution_count": null,
   "id": "d5a5df0d-ffe4-4390-b84e-69caadfbdf1a",
   "metadata": {},
   "outputs": [],
   "source": [
    "x1 = Value(2.0)\n",
    "x2 = Value(0.0)\n",
    "w1 = Value(-3.0)\n",
    "w2 = Value(1.0)\n",
    "b = Value(6.88137)\n",
    "\n",
    "x1w1 = x1*w1\n",
    "x2w2 = x2*w2\n",
    "x1w1x2w2 = x1w1 + x2w2\n",
    "n = x1w1x2w2 + b\n",
    "o = n.tanh()"
   ]
  },
  {
   "cell_type": "code",
   "execution_count": null,
   "id": "42a7a003-e330-4001-b47b-4783c9c00740",
   "metadata": {},
   "outputs": [],
   "source": [
    "o.grad = 1.0"
   ]
  },
  {
   "cell_type": "code",
   "execution_count": null,
   "id": "aff7d368-c9cd-4c8f-8057-dee630637359",
   "metadata": {},
   "outputs": [],
   "source": [
    "o"
   ]
  },
  {
   "cell_type": "code",
   "execution_count": null,
   "id": "c46eba1b-d7ec-4a3d-8553-b532d8cf2b8a",
   "metadata": {},
   "outputs": [],
   "source": [
    "o.backward()"
   ]
  },
  {
   "cell_type": "code",
   "execution_count": null,
   "id": "cc224745-6657-46f6-80b8-1600dee07ea4",
   "metadata": {},
   "outputs": [],
   "source": [
    "print(x1,w1,x2,w2)"
   ]
  },
  {
   "cell_type": "markdown",
   "id": "55d5e4d1-2fdd-4aab-86ba-d16d03b2d88b",
   "metadata": {},
   "source": [
    "# Topological Sorting"
   ]
  },
  {
   "cell_type": "code",
   "execution_count": null,
   "id": "ffeac60a-5b52-44ee-ab1a-bde648748ed2",
   "metadata": {},
   "outputs": [],
   "source": [
    "topo"
   ]
  },
  {
   "cell_type": "markdown",
   "id": "deee4dab-17ff-475e-b05a-b1b85fa75082",
   "metadata": {},
   "source": [
    "\n",
    "Derivative of a function is given by:\n",
    "$$\\lim_{h \\to 0} f'(x) = \\frac{f(x+h) - f(x)}{h}$$\n",
    "\n",
    "- Now for our expressions\n",
    "$$e = a \\times b$$\n",
    "$$d = e + c$$\n",
    "$$L = d \\times f$$\n",
    "\n",
    "- The derivaties for each and every variable will be given by\n",
    "\n",
    "$$\n",
    "\\frac{\\delta L}{\\delta L} = 1\n",
    "$$\n",
    "\n",
    "\n",
    "$$\n",
    "\\frac{\\delta L}{\\delta f} = d\n",
    "$$\n",
    "\n",
    "$$\n",
    "\\frac{\\delta L}{\\delta d} = f\n",
    "$$\n",
    "\n",
    "$$\n",
    "\\frac{\\delta L}{\\delta e} = \\frac{\\delta L}{\\delta d} \\times \\frac{\\delta d}{\\delta e} = f\n",
    "$$\n",
    "\n",
    "$$\n",
    "\\frac{\\delta L}{\\delta c} = \\frac{\\delta L}{\\delta d} \\times \\frac{\\delta d}{\\delta c} = f\n",
    "$$\n",
    "\n",
    "$$\n",
    "\\frac{\\delta L}{\\delta a} = \\frac{\\delta L}{\\delta d} \\times \\frac{\\delta d}{\\delta e} \\times \\frac{\\delta e}{\\delta a} = f \\times b\n",
    "$$\n",
    "\n",
    "$$\n",
    "\\frac{\\delta L}{\\delta b} = \\frac{\\delta L}{\\delta d} \\times \\frac{\\delta d}{\\delta e} \\times \\frac{\\delta e}{\\delta b} = f \\times a\n",
    "$$"
   ]
  },
  {
   "cell_type": "code",
   "execution_count": null,
   "id": "1d88500d-5509-4e65-b7f7-69671003b7c7",
   "metadata": {},
   "outputs": [],
   "source": [
    "print(x1 ,\"\\n\" , x2, w1 ,\"\\n\" , w2, b ,\"\\n\" , x1w1,x2w2 ,\"\\n\" , x1w1x2w2, n ,\"\\n\" , o)"
   ]
  },
  {
   "cell_type": "code",
   "execution_count": null,
   "id": "1d30201b-a6ba-45e0-8b6f-dd57d57b2538",
   "metadata": {},
   "outputs": [],
   "source": [
    "o.backward()"
   ]
  },
  {
   "cell_type": "code",
   "execution_count": null,
   "id": "9c373f25-bf68-4dcb-8c3e-632d879de049",
   "metadata": {},
   "outputs": [],
   "source": [
    "print(x1 ,\"\\n\" , x2, w1 ,\"\\n\" , w2, b ,\"\\n\" , x1w1,x2w2 ,\"\\n\" , x1w1x2w2, n ,\"\\n\" , o)"
   ]
  },
  {
   "cell_type": "markdown",
   "id": "eed524c8-fcbe-452a-97b5-215a4358b2f3",
   "metadata": {
    "jp-MarkdownHeadingCollapsed": true
   },
   "source": [
    "# Trying to break the $\\mathbf{tanh}$ function"
   ]
  },
  {
   "cell_type": "code",
   "execution_count": null,
   "id": "8b544bf2-e462-488d-ac71-d49218b7ff9b",
   "metadata": {},
   "outputs": [],
   "source": [
    "x1 = Value(2.0)\n",
    "x2 = Value(0.0)\n",
    "w1 = Value(-3.0)\n",
    "w2 = Value(1.0)\n",
    "b = Value(6.88137)\n",
    "\n",
    "x1w1 = x1*w1\n",
    "x2w2 = x2*w2\n",
    "x1w1x2w2 = x1w1 + x2w2\n",
    "n = x1w1x2w2 + b\n",
    "# ---------\n",
    "e = (2 * n).exp()\n",
    "o = (e - 1)/(e + 1)"
   ]
  },
  {
   "cell_type": "code",
   "execution_count": null,
   "id": "2eea455e-6dda-4723-880c-3267d635119e",
   "metadata": {},
   "outputs": [],
   "source": [
    "print(x1 ,\"\\n\" , x2, w1 ,\"\\n\" , w2, b ,\"\\n\" , x1w1,x2w2 ,\"\\n\" , x1w1x2w2, n ,\"\\n\" , e, \"\\n\", o)"
   ]
  },
  {
   "cell_type": "code",
   "execution_count": null,
   "id": "2a9e3686-63b7-47c6-b78d-e67ab4acbe00",
   "metadata": {},
   "outputs": [],
   "source": [
    "o.backward()"
   ]
  },
  {
   "cell_type": "code",
   "execution_count": null,
   "id": "30c270fc-ece2-43a9-85e5-b7126d0ba72c",
   "metadata": {},
   "outputs": [],
   "source": [
    "print(x1 ,\"\\n\" , x2, \"\\n\", w1 ,\"\\n\" , w2, \"\\n\", b ,\"\\n\" , x1w1, \"\\n\",x2w2 ,\"\\n\" , x1w1x2w2, \"\\n\",n ,\"\\n\" , e, \"\\n\", o)"
   ]
  },
  {
   "cell_type": "markdown",
   "id": "e834c20b-c882-487d-9bc5-12818ebc7549",
   "metadata": {},
   "source": [
    "# Introduction to `pytorch`"
   ]
  },
  {
   "cell_type": "code",
   "execution_count": null,
   "id": "e6ed13f2-9651-4b7e-90e2-62fb72cba369",
   "metadata": {},
   "outputs": [],
   "source": [
    "x1 = torch.Tensor([2.0])\n",
    "x2 = torch.Tensor([0.0])\n",
    "w1 = torch.Tensor([-1.0])\n",
    "w2 = torch.Tensor([3.0])\n",
    "b = torch.Tensor([6.88137])\n",
    "n = x1*w1 + x2*w2 + b\n",
    "o = torch.tanh(n)\n",
    "print(o.data.item())\n",
    "x1.requires_grad = True\n",
    "x2.requires_grad = True\n",
    "w1.requires_grad = True\n",
    "w2.requires_grad = True\n",
    "b.requires_grad = True\n",
    "n.requires_grad = True\n",
    "o.requires_grad = True\n",
    "o.backward()\n"
   ]
  },
  {
   "cell_type": "code",
   "execution_count": 28,
   "id": "ce18dc85-93ae-440a-ae1f-ab8eb5ff2329",
   "metadata": {},
   "outputs": [],
   "source": [
    "class Neuron:\n",
    "    def __init__(self,nin: int):\n",
    "        '''Constructor which takes in an input of int and creates weight matrix and bias vector'''\n",
    "        self.w = [Value(np.random.uniform(-1,1)) for _ in range(nin)]\n",
    "        self.b = Value(np.random.uniform(-1,1))\n",
    "\n",
    "    def __call__(self, x):\n",
    "        act = sum((wi*xi for wi,xi in  zip(self.w, x)),self.b) # The second parameter to the sum is from where the sum should start, the default is always 0.0 \n",
    "        out = act.tanh()\n",
    "        return out\n",
    "\n",
    "    def parameters(self):\n",
    "        return self.w + [self.b]\n",
    "\n",
    "class Layer:\n",
    "    def __init__(self,nin:int, nout:int):\n",
    "        self.neurons = [Neuron(nin) for _ in range(nout)]\n",
    "\n",
    "    def __call__(self, x):\n",
    "        outs = [n(x) for n in self.neurons]\n",
    "        return outs[0] if len(outs) == 1 else outs\n",
    "\n",
    "    def parameters(self):\n",
    "        return [p for neuron in self.neurons for p in neuron.parameters()]\n",
    "\n",
    "class MLP:\n",
    "    '''Class that defines the multi-layer perceptron'''\n",
    "    def __init__(self,nin:int,nout:list):\n",
    "        '''\n",
    "        nin: Number of inputs <int>\n",
    "        nout: List of number of neurons in every layer <list>\n",
    "        '''\n",
    "        sz = [nin] + nout\n",
    "        self.layers = [Layer(sz[i],sz[i+1]) for i in range(len(nout))]\n",
    "\n",
    "    def __call__(self,x):\n",
    "        for layer in self.layers:\n",
    "            x = layer(x)\n",
    "        return x\n",
    "\n",
    "    def parameters(self):\n",
    "        return [p for layer in self.layers for p in layer.parameters()]\n",
    "        "
   ]
  },
  {
   "cell_type": "code",
   "execution_count": 60,
   "id": "00c1cecb-1a15-4800-8aa4-c2357b903810",
   "metadata": {},
   "outputs": [],
   "source": [
    "xs = [\n",
    "    [2.0,3.0,-1.0],\n",
    "    [3.0,-1.0,0.5],\n",
    "    [0.5,1.0,1.0],\n",
    "    [1.0,1.0,-1.0]\n",
    "]\n",
    "ys = [1.0,-1.0,-1.0,1.0]\n",
    "w = MLP(3,[4,4,1])"
   ]
  },
  {
   "cell_type": "code",
   "execution_count": 84,
   "id": "becc63b5-f711-43c5-9584-a400ed397e1d",
   "metadata": {},
   "outputs": [
    {
     "data": {
      "text/plain": [
       "[Value(data = 0.49491094213570513) | Grad(grad = 0.0),\n",
       " Value(data = 0.6001709453569196) | Grad(grad = 0.0),\n",
       " Value(data = 0.10146079079850465) | Grad(grad = 0.0),\n",
       " Value(data = 0.8031278479334707) | Grad(grad = 0.0)]"
      ]
     },
     "execution_count": 84,
     "metadata": {},
     "output_type": "execute_result"
    }
   ],
   "source": [
    "ypred = [w(x) for x in xs]\n",
    "ypred"
   ]
  },
  {
   "cell_type": "code",
   "execution_count": 78,
   "id": "515a208f-ffd7-448b-a089-9d4b3822e2ed",
   "metadata": {},
   "outputs": [
    {
     "name": "stdout",
     "output_type": "stream",
     "text": [
      "Value(data = 5.522226472613296) | Grad(grad = 0.0)\n"
     ]
    }
   ],
   "source": [
    "loss = sum([(yp - yi)**2 for yi,yp in zip(ys,ypred)])\n",
    "print(loss)"
   ]
  },
  {
   "cell_type": "code",
   "execution_count": 80,
   "id": "f0786a5e-21fd-4a40-816b-4fa1af1b9f7d",
   "metadata": {},
   "outputs": [],
   "source": [
    "loss.backward()"
   ]
  },
  {
   "cell_type": "code",
   "execution_count": 82,
   "id": "8ccb0149-4c3d-4b82-a7c0-c11e477c2dec",
   "metadata": {},
   "outputs": [],
   "source": [
    "for p in w.parameters(): # Updating the weight vector using the gradient descent algorithm\n",
    "    p.data += -0.01 * p.grad"
   ]
  },
  {
   "cell_type": "code",
   "execution_count": 86,
   "id": "99204454-2288-4e65-9f26-2b284b4b2ee5",
   "metadata": {},
   "outputs": [
    {
     "data": {
      "text/plain": [
       "[Value(data = 0.49491094213570513) | Grad(grad = 0.0),\n",
       " Value(data = 0.6001709453569196) | Grad(grad = 0.0),\n",
       " Value(data = 0.10146079079850465) | Grad(grad = 0.0),\n",
       " Value(data = 0.8031278479334707) | Grad(grad = 0.0)]"
      ]
     },
     "execution_count": 86,
     "metadata": {},
     "output_type": "execute_result"
    }
   ],
   "source": [
    "ypred"
   ]
  },
  {
   "cell_type": "code",
   "execution_count": 46,
   "id": "6d70dcd7-c850-4166-af17-565799bddd42",
   "metadata": {},
   "outputs": [],
   "source": [
    "# iterative Gradient Descent Approach"
   ]
  },
  {
   "cell_type": "code",
   "execution_count": 88,
   "id": "3c7e4f97-8b9b-4f11-98e5-59216bb2ee08",
   "metadata": {},
   "outputs": [
    {
     "name": "stdout",
     "output_type": "stream",
     "text": [
      "Value(data = 4.067636528664473) | Grad(grad = 0.0)\n",
      "Value(data = [3.35958844 3.35958844]) | Grad(grad = 0.0)\n",
      "Value(data = [2.63353215 2.63353215]) | Grad(grad = 0.0)\n",
      "Value(data = [1.98410894 1.98410894]) | Grad(grad = 0.0)\n",
      "Value(data = [1.48428064 1.48428064]) | Grad(grad = 0.0)\n",
      "Value(data = [1.13509152 1.13509152]) | Grad(grad = 0.0)\n",
      "Value(data = [0.89719663 0.89719663]) | Grad(grad = 0.0)\n",
      "Value(data = [0.73218834 0.73218834]) | Grad(grad = 0.0)\n",
      "Value(data = [0.61391754 0.61391754]) | Grad(grad = 0.0)\n",
      "Value(data = [0.52620243 0.52620243]) | Grad(grad = 0.0)\n",
      "Value(data = [0.4591098 0.4591098]) | Grad(grad = 0.0)\n",
      "Value(data = [0.40640644 0.40640644]) | Grad(grad = 0.0)\n",
      "Value(data = [0.36405814 0.36405814]) | Grad(grad = 0.0)\n",
      "Value(data = [0.32936946 0.32936946]) | Grad(grad = 0.0)\n",
      "Value(data = [0.30048468 0.30048468]) | Grad(grad = 0.0)\n",
      "Value(data = [0.27609114 0.27609114]) | Grad(grad = 0.0)\n",
      "Value(data = [0.2552375 0.2552375]) | Grad(grad = 0.0)\n",
      "Value(data = [0.2372193 0.2372193]) | Grad(grad = 0.0)\n",
      "Value(data = [0.22150478 0.22150478]) | Grad(grad = 0.0)\n",
      "Value(data = [0.20768565 0.20768565]) | Grad(grad = 0.0)\n",
      "Value(data = [0.19544358 0.19544358]) | Grad(grad = 0.0)\n",
      "Value(data = [0.18452699 0.18452699]) | Grad(grad = 0.0)\n",
      "Value(data = [0.17473455 0.17473455]) | Grad(grad = 0.0)\n",
      "Value(data = [0.16590333 0.16590333]) | Grad(grad = 0.0)\n",
      "Value(data = [0.15790018 0.15790018]) | Grad(grad = 0.0)\n",
      "Value(data = [0.15061522 0.15061522]) | Grad(grad = 0.0)\n",
      "Value(data = [0.14395703 0.14395703]) | Grad(grad = 0.0)\n",
      "Value(data = [0.13784896 0.13784896]) | Grad(grad = 0.0)\n",
      "Value(data = [0.13222627 0.13222627]) | Grad(grad = 0.0)\n",
      "Value(data = [0.12703391 0.12703391]) | Grad(grad = 0.0)\n",
      "Value(data = [0.12222481 0.12222481]) | Grad(grad = 0.0)\n",
      "Value(data = [0.11775847 0.11775847]) | Grad(grad = 0.0)\n",
      "Value(data = [0.11359985 0.11359985]) | Grad(grad = 0.0)\n",
      "Value(data = [0.10971852 0.10971852]) | Grad(grad = 0.0)\n",
      "Value(data = [0.1060879 0.1060879]) | Grad(grad = 0.0)\n",
      "Value(data = [0.10268467 0.10268467]) | Grad(grad = 0.0)\n",
      "Value(data = [0.09948832 0.09948832]) | Grad(grad = 0.0)\n",
      "Value(data = [0.09648071 0.09648071]) | Grad(grad = 0.0)\n",
      "Value(data = [0.09364574 0.09364574]) | Grad(grad = 0.0)\n",
      "Value(data = [0.09096909 0.09096909]) | Grad(grad = 0.0)\n",
      "Value(data = [0.08843797 0.08843797]) | Grad(grad = 0.0)\n",
      "Value(data = [0.08604093 0.08604093]) | Grad(grad = 0.0)\n",
      "Value(data = [0.08376768 0.08376768]) | Grad(grad = 0.0)\n",
      "Value(data = [0.08160894 0.08160894]) | Grad(grad = 0.0)\n",
      "Value(data = [0.07955636 0.07955636]) | Grad(grad = 0.0)\n",
      "Value(data = [0.07760234 0.07760234]) | Grad(grad = 0.0)\n",
      "Value(data = [0.07574001 0.07574001]) | Grad(grad = 0.0)\n",
      "Value(data = [0.07396313 0.07396313]) | Grad(grad = 0.0)\n",
      "Value(data = [0.07226597 0.07226597]) | Grad(grad = 0.0)\n",
      "Value(data = [0.07064335 0.07064335]) | Grad(grad = 0.0)\n",
      "Value(data = [0.06909049 0.06909049]) | Grad(grad = 0.0)\n",
      "Value(data = [0.06760302 0.06760302]) | Grad(grad = 0.0)\n",
      "Value(data = [0.06617693 0.06617693]) | Grad(grad = 0.0)\n",
      "Value(data = [0.06480853 0.06480853]) | Grad(grad = 0.0)\n",
      "Value(data = [0.0634944 0.0634944]) | Grad(grad = 0.0)\n",
      "Value(data = [0.06223142 0.06223142]) | Grad(grad = 0.0)\n",
      "Value(data = [0.06101667 0.06101667]) | Grad(grad = 0.0)\n",
      "Value(data = [0.05984746 0.05984746]) | Grad(grad = 0.0)\n",
      "Value(data = [0.0587213 0.0587213]) | Grad(grad = 0.0)\n",
      "Value(data = [0.05763588 0.05763588]) | Grad(grad = 0.0)\n",
      "Value(data = [0.05658902 0.05658902]) | Grad(grad = 0.0)\n",
      "Value(data = [0.05557874 0.05557874]) | Grad(grad = 0.0)\n",
      "Value(data = [0.05460316 0.05460316]) | Grad(grad = 0.0)\n",
      "Value(data = [0.05366054 0.05366054]) | Grad(grad = 0.0)\n",
      "Value(data = [0.05274925 0.05274925]) | Grad(grad = 0.0)\n",
      "Value(data = [0.05186775 0.05186775]) | Grad(grad = 0.0)\n",
      "Value(data = [0.05101464 0.05101464]) | Grad(grad = 0.0)\n",
      "Value(data = [0.05018855 0.05018855]) | Grad(grad = 0.0)\n",
      "Value(data = [0.04938825 0.04938825]) | Grad(grad = 0.0)\n",
      "Value(data = [0.04861255 0.04861255]) | Grad(grad = 0.0)\n",
      "Value(data = [0.04786034 0.04786034]) | Grad(grad = 0.0)\n",
      "Value(data = [0.04713058 0.04713058]) | Grad(grad = 0.0)\n",
      "Value(data = [0.04642229 0.04642229]) | Grad(grad = 0.0)\n",
      "Value(data = [0.04573453 0.04573453]) | Grad(grad = 0.0)\n",
      "Value(data = [0.04506644 0.04506644]) | Grad(grad = 0.0)\n",
      "Value(data = [0.04441719 0.04441719]) | Grad(grad = 0.0)\n",
      "Value(data = [0.04378599 0.04378599]) | Grad(grad = 0.0)\n",
      "Value(data = [0.04317212 0.04317212]) | Grad(grad = 0.0)\n",
      "Value(data = [0.04257487 0.04257487]) | Grad(grad = 0.0)\n",
      "Value(data = [0.04199359 0.04199359]) | Grad(grad = 0.0)\n",
      "Value(data = [0.04142764 0.04142764]) | Grad(grad = 0.0)\n",
      "Value(data = [0.04087642 0.04087642]) | Grad(grad = 0.0)\n",
      "Value(data = [0.04033939 0.04033939]) | Grad(grad = 0.0)\n",
      "Value(data = [0.03981599 0.03981599]) | Grad(grad = 0.0)\n",
      "Value(data = [0.03930573 0.03930573]) | Grad(grad = 0.0)\n",
      "Value(data = [0.03880811 0.03880811]) | Grad(grad = 0.0)\n",
      "Value(data = [0.03832268 0.03832268]) | Grad(grad = 0.0)\n",
      "Value(data = [0.03784899 0.03784899]) | Grad(grad = 0.0)\n",
      "Value(data = [0.03738663 0.03738663]) | Grad(grad = 0.0)\n",
      "Value(data = [0.0369352 0.0369352]) | Grad(grad = 0.0)\n",
      "Value(data = [0.03649432 0.03649432]) | Grad(grad = 0.0)\n",
      "Value(data = [0.03606363 0.03606363]) | Grad(grad = 0.0)\n",
      "Value(data = [0.03564277 0.03564277]) | Grad(grad = 0.0)\n",
      "Value(data = [0.03523143 0.03523143]) | Grad(grad = 0.0)\n",
      "Value(data = [0.03482927 0.03482927]) | Grad(grad = 0.0)\n",
      "Value(data = [0.03443601 0.03443601]) | Grad(grad = 0.0)\n",
      "Value(data = [0.03405135 0.03405135]) | Grad(grad = 0.0)\n",
      "Value(data = [0.03367501 0.03367501]) | Grad(grad = 0.0)\n",
      "Value(data = [0.03330672 0.03330672]) | Grad(grad = 0.0)\n",
      "Value(data = [0.03294625 0.03294625]) | Grad(grad = 0.0)\n"
     ]
    }
   ],
   "source": [
    "for _ in range(100):\n",
    "    ypred = [w(x) for x in xs]\n",
    "    loss = sum([(yp - yi)**2 for yi,yp in zip(ys,ypred)])\n",
    "    print(loss)\n",
    "    for p in w.parameters():\n",
    "        p.grad = 0,0\n",
    "    loss.backward()\n",
    "    for p in w.parameters(): # Updating the weight vector using the gradient descent algorithm\n",
    "        p.data += -0.01 * p.grad\n",
    "\n",
    "    "
   ]
  },
  {
   "cell_type": "code",
   "execution_count": 90,
   "id": "808ff93e-6916-4649-9d63-24d9fbe1e85b",
   "metadata": {},
   "outputs": [
    {
     "data": {
      "text/plain": [
       "[Value(data = [0.91211464 0.91211464]) | Grad(grad = [-0.17577071 -0.17577071]),\n",
       " Value(data = [-0.91136398 -0.91136398]) | Grad(grad = [0.17727203 0.17727203]),\n",
       " Value(data = [-0.88887786 -0.88887786]) | Grad(grad = [0.22224428 0.22224428]),\n",
       " Value(data = [0.9291626 0.9291626]) | Grad(grad = [-0.14167481 -0.14167481])]"
      ]
     },
     "execution_count": 90,
     "metadata": {},
     "output_type": "execute_result"
    }
   ],
   "source": [
    "ypred"
   ]
  },
  {
   "cell_type": "code",
   "execution_count": null,
   "id": "fa1ca76d-72ca-4086-8381-27f81930164f",
   "metadata": {},
   "outputs": [],
   "source": []
  },
  {
   "cell_type": "code",
   "execution_count": null,
   "id": "1724c793-a184-4e30-a20d-b6eef87eedf4",
   "metadata": {},
   "outputs": [],
   "source": []
  }
 ],
 "metadata": {
  "kernelspec": {
   "display_name": "Python [conda env:base] *",
   "language": "python",
   "name": "conda-base-py"
  },
  "language_info": {
   "codemirror_mode": {
    "name": "ipython",
    "version": 3
   },
   "file_extension": ".py",
   "mimetype": "text/x-python",
   "name": "python",
   "nbconvert_exporter": "python",
   "pygments_lexer": "ipython3",
   "version": "3.12.7"
  }
 },
 "nbformat": 4,
 "nbformat_minor": 5
}
