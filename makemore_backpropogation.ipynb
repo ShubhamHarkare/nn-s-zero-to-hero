{
 "cells": [
  {
   "cell_type": "code",
   "execution_count": 1,
   "id": "31d0a056-a5d6-4170-9afe-638ed4ddfa6b",
   "metadata": {},
   "outputs": [],
   "source": [
    "import torch\n",
    "import torch.nn.functional as F\n",
    "import matplotlib.pyplot as plt\n",
    "import seaborn as sns\n",
    "\n",
    "\n",
    "sns.set()"
   ]
  },
  {
   "cell_type": "code",
   "execution_count": 2,
   "id": "2e1a8351-ee99-4cd0-a484-75359725b12d",
   "metadata": {},
   "outputs": [],
   "source": [
    "words = open('names.txt','r').read().splitlines()\n",
    "\n",
    "chars = sorted(list(set(''.join(words))))\n",
    "stoi = {s:i+1 for i,s in enumerate(chars)}\n",
    "stoi['.'] = 0\n",
    "itos = {i:s for s,i in stoi.items()}"
   ]
  },
  {
   "cell_type": "markdown",
   "id": "78b9c712-c3d4-494f-9fd8-e7a22bf0c0cc",
   "metadata": {},
   "source": [
    "### Slitting the dataset into training, test and validation "
   ]
  },
  {
   "cell_type": "code",
   "execution_count": 33,
   "id": "c187657b-3c38-47c2-a106-bded75f11b67",
   "metadata": {},
   "outputs": [],
   "source": [
    "def build_dataset(words:list):\n",
    "    '''Seperates the data into training, test and validation'''\n",
    "    block_size = 3 # Context Length: How many characters we take as input to predict the output \n",
    "    X,Y = [],[]\n",
    "    \n",
    "    for w in words:\n",
    "        #print(w)\n",
    "        context = [0] * block_size\n",
    "        for ch in w + '.':\n",
    "            ix = stoi[ch]\n",
    "            X.append(context)\n",
    "            Y.append(ix)\n",
    "            #print(''.join(itos[i] for i in context), '---->', itos[ix])\n",
    "            context = context[1:] + [ix]\n",
    "    X = torch.tensor(X)\n",
    "    Y = torch.tensor(Y)\n",
    "    return X,Y\n",
    "\n",
    "import random\n",
    "random.seed(42)\n",
    "random.shuffle(words)\n",
    "n1 = int(0.8*len(words))\n",
    "n2 = int(0.9*len(words))\n",
    "Xtr,Ytr = build_dataset(words[:n1])\n",
    "Xdev,Ydev = build_dataset(words[n1:n2])\n",
    "Xte,Yte = build_dataset(words[n2:])"
   ]
  },
  {
   "cell_type": "code",
   "execution_count": 34,
   "id": "576b9b87-7080-46a0-9740-6ea315aed301",
   "metadata": {},
   "outputs": [
    {
     "name": "stdout",
     "output_type": "stream",
     "text": [
      "Training examples shapes: torch.Size([182580, 3]),torch.Size([182580])\n",
      "Validation examples shapes: torch.Size([22767, 3]),torch.Size([22767])\n",
      "Testing examples shapes: torch.Size([22799, 3]),torch.Size([22799])\n"
     ]
    }
   ],
   "source": [
    "print(f'Training examples shapes: {Xtr.shape},{Ytr.shape}')\n",
    "print(f'Validation examples shapes: {Xdev.shape},{Ydev.shape}')\n",
    "print(f'Testing examples shapes: {Xte.shape},{Yte.shape}')"
   ]
  },
  {
   "cell_type": "code",
   "execution_count": 37,
   "id": "d6afa508-515f-43dc-a906-e1da8ac85712",
   "metadata": {},
   "outputs": [],
   "source": [
    "# utility function we will use later when comparing manual gradients to PyTorch gradients\n",
    "def cmp(s, dt, t):\n",
    "  ex = torch.all(dt == t.grad).item()\n",
    "  app = torch.allclose(dt, t.grad)\n",
    "  maxdiff = (dt - t.grad).abs().max().item()\n",
    "  print(f'{s:15s} | exact: {str(ex):5s} | approximate: {str(app):5s} | maxdiff: {maxdiff}')"
   ]
  },
  {
   "cell_type": "code",
   "execution_count": 39,
   "id": "0f1dc8a2-9872-451c-9652-f97593333fa1",
   "metadata": {},
   "outputs": [],
   "source": [
    "class Linear:\n",
    "    def __init__(self,fan_in:int,fan_out:int,bias:bool = True):\n",
    "        self.weight = torch.randn((fan_in,fan_out),generator = g) / fan_in**0.5\n",
    "        self.bias = torch.zeros(fan_out) if bias is True else None\n",
    "\n",
    "    def __call__(self,x):\n",
    "        self.out = x @ self.weight\n",
    "        if self.bias is not None:\n",
    "            self.out += self.bias\n",
    "        return self.out\n",
    "\n",
    "    def parameters(self):\n",
    "        return [self.weight] + ([] if self.bias is None else [self.bias])\n",
    "\n",
    "class BatchNormalization:\n",
    "    def __init__(self,dim,eps = 1e-5, momentum = 0.1):\n",
    "        self.eps = eps\n",
    "        self.momentum = momentum\n",
    "        self.training = True\n",
    "\n",
    "        # Parameters: Trained during Back-Propogation\n",
    "        self.gamma = torch.ones(dim)\n",
    "        self.beta = torch.zeros(dim)\n",
    "\n",
    "        # Parameters: Updated using running mean and std\n",
    "        self.running_mean = torch.zeros(dim)\n",
    "        self.running_var = torch.ones(dim)\n",
    "\n",
    "    def __call__(self,x):\n",
    "        # Calculate the forward pass\n",
    "        if self.training:\n",
    "            xmean = x.mean(0,keepdim = True)\n",
    "            xvar = x.var(0, keepdim = True, unbiased = True)\n",
    "        else:\n",
    "            xmean = self.running_mean\n",
    "            xvar = self.running_var\n",
    "        xhat = (x - xmean) / torch.sqrt(xvar + self.eps) # Normalization to unit variance\n",
    "        self.out = self.gamma * xhat + self.beta\n",
    "\n",
    "        # Updating the running mean and variance\n",
    "        if self.training:\n",
    "            with torch.no_grad():\n",
    "                self.running_mean = (1 - self.momentum) * self.running_mean + self.momentum * xmean\n",
    "                self.running_var = (1 - self.momentum) * self.running_var + self.momentum * xvar\n",
    "        return self.out\n",
    "\n",
    "    def parameters(self):\n",
    "        return [self.gamma , self.beta]\n",
    "\n",
    "class Tanh:\n",
    "    def __call__(self, x):\n",
    "        self.out = torch.tanh(x)\n",
    "        return self.out\n",
    "\n",
    "    def parameters(self):\n",
    "        return []"
   ]
  },
  {
   "cell_type": "code",
   "execution_count": 41,
   "id": "1ee8565f-2f4a-4f75-a589-6ed0074e724c",
   "metadata": {},
   "outputs": [],
   "source": [
    "def cmp(s,dt,t):\n",
    "    '''Utility function to compare the gradients'''\n",
    "    ex = torch.all(dt == t.grad).item()\n",
    "    app = torch.allclose(dt,t.grad)\n",
    "    maxdiff = (dt - t.grad).abs().max().item()\n",
    "    print(f'| Exact : {ex} | Absolute : {app} | Max Difference : {maxdiff}')"
   ]
  },
  {
   "cell_type": "code",
   "execution_count": 43,
   "id": "117f373e-8153-4018-9473-ba11b0e78566",
   "metadata": {},
   "outputs": [
    {
     "name": "stdout",
     "output_type": "stream",
     "text": [
      "47551\n"
     ]
    }
   ],
   "source": [
    "# Generating the Neural Network\n",
    "n_embed = 10\n",
    "n_hidden = 100\n",
    "g = torch.Generator().manual_seed(21644343223)\n",
    "block_size = 3\n",
    "vocab_size = 27\n",
    "C = torch.randn((vocab_size,n_embed), generator = g)\n",
    "layers = [\n",
    "    Linear(n_embed*block_size,n_hidden),\n",
    "    BatchNormalization(n_hidden),\n",
    "    Tanh(),\n",
    "    Linear(n_hidden,n_hidden),\n",
    "    BatchNormalization(n_hidden),\n",
    "    Tanh(),\n",
    "    Linear(n_hidden,n_hidden),\n",
    "    BatchNormalization(n_hidden),\n",
    "    Tanh(),\n",
    "    Linear(n_hidden,n_hidden),\n",
    "    BatchNormalization(n_hidden),\n",
    "    Tanh(),\n",
    "    Linear(n_hidden,n_hidden),\n",
    "    BatchNormalization(n_hidden),\n",
    "    Tanh(),\n",
    "    Linear(n_hidden,vocab_size),\n",
    "    BatchNormalization(vocab_size),\n",
    "]\n",
    "\n",
    "with torch.no_grad():\n",
    "    layers[-1].gamma *=  0.1\n",
    "    for layer in layers[:-1]:\n",
    "        if isinstance(layer,Linear):\n",
    "            layer.weight *= 5/3\n",
    "\n",
    "parameters = [C] + [p for layer in layers for p in layer.parameters()]\n",
    "print(sum(p.nelement() for p in  parameters))\n",
    "\n",
    "for p in parameters:\n",
    "    p.requires_grad = True"
   ]
  },
  {
   "cell_type": "code",
   "execution_count": 45,
   "id": "85229d64-67c9-44fb-a8ec-652c6548add4",
   "metadata": {},
   "outputs": [
    {
     "name": "stdout",
     "output_type": "stream",
     "text": [
      "0/200000 -> 3.3125298023223877\n"
     ]
    }
   ],
   "source": [
    "batch_size = 32\n",
    "max_steps = 200000\n",
    "losses = []\n",
    "\n",
    "for i in range(max_steps):\n",
    "    # Mini-batch construct\n",
    "    ix = torch.randint(0,Xtr.shape[0],(batch_size, ), generator = g)\n",
    "    Xb,yb = Xtr[ix],Ytr[ix]\n",
    "\n",
    "    # ----- FORWARD PASS ----- #\n",
    "    emb = C[Xb] # Embed the characters into vectors\n",
    "    x = emb.view(emb.shape[0],-1) # Reshape the embedding vector into 2-dimensional matrix\n",
    "    for layer in layers:\n",
    "        x = layer(x)\n",
    "    loss = F.cross_entropy(x,yb) # Categorical Cross-Entropy as the loss function\n",
    "\n",
    "    # ----- BACKWARD PASS ----- #\n",
    "    for layer in layers:\n",
    "        layer.out.retain_grad()\n",
    "    for p in parameters:\n",
    "        p.grad = None\n",
    "    loss.backward()\n",
    "\n",
    "    # ----- UPDATE ----- #\n",
    "    lr = 0.1 if i < (max_steps // 2) else 0.01\n",
    "    for p in parameters:\n",
    "        p.data -= lr * p.grad\n",
    "\n",
    "    # ----- PRINTING LOSS ----- #\n",
    "    if (i % 10000 == 0):\n",
    "        print(f'{i}/{max_steps} -> {loss.item()}')\n",
    "    losses.append(loss.log10().item())\n",
    "    break"
   ]
  },
  {
   "cell_type": "code",
   "execution_count": 47,
   "id": "5d6bf3eb",
   "metadata": {},
   "outputs": [
    {
     "name": "stdout",
     "output_type": "stream",
     "text": [
      "4137\n"
     ]
    }
   ],
   "source": [
    "n_embd = 10 # the dimensionality of the character embedding vectors\n",
    "n_hidden = 64 # the number of neurons in the hidden layer of the MLP\n",
    "vocab_size = 27\n",
    "block_size = 3\n",
    "g = torch.Generator().manual_seed(2147483647) # for reproducibility\n",
    "C  = torch.randn((vocab_size, n_embd),            generator=g)\n",
    "# Layer 1\n",
    "W1 = torch.randn((n_embd * block_size, n_hidden), generator=g) * (5/3)/((n_embd * block_size)**0.5)\n",
    "b1 = torch.randn(n_hidden,                        generator=g) * 0.1 # using b1 just for fun, it's useless because of BN\n",
    "# Layer 2\n",
    "W2 = torch.randn((n_hidden, vocab_size),          generator=g) * 0.1\n",
    "b2 = torch.randn(vocab_size,                      generator=g) * 0.1\n",
    "# BatchNorm parameters\n",
    "bngain = torch.randn((1, n_hidden))*0.1 + 1.0\n",
    "bnbias = torch.randn((1, n_hidden))*0.1\n",
    "\n",
    "# Note: I am initializating many of these parameters in non-standard ways\n",
    "# because sometimes initializating with e.g. all zeros could mask an incorrect\n",
    "# implementation of the backward pass.\n",
    "\n",
    "parameters = [C, W1, b1, W2, b2, bngain, bnbias]\n",
    "print(sum(p.nelement() for p in parameters)) # number of parameters in total\n",
    "for p in parameters:\n",
    "  p.requires_grad = True"
   ]
  },
  {
   "cell_type": "code",
   "execution_count": 49,
   "id": "73309751-fecc-4455-93d0-a7d935bf7393",
   "metadata": {},
   "outputs": [],
   "source": [
    "batch_size = 32\n",
    "n = batch_size # a shorter variable also, for convenience\n",
    "# construct a minibatch\n",
    "ix = torch.randint(0, Xtr.shape[0], (batch_size,), generator=g)\n",
    "Xb, Yb = Xtr[ix], Ytr[ix] # batch X,Y"
   ]
  },
  {
   "cell_type": "code",
   "execution_count": 51,
   "id": "05da1a25-cefd-485a-9501-2754a171ff84",
   "metadata": {},
   "outputs": [
    {
     "data": {
      "text/plain": [
       "tensor(3.4921, grad_fn=<NegBackward0>)"
      ]
     },
     "execution_count": 51,
     "metadata": {},
     "output_type": "execute_result"
    }
   ],
   "source": [
    "#forward pass, \"chunkated\" into smaller steps that are possible to backward one at a time\n",
    "\n",
    "emb = C[Xb] # embed the characters into vectors\n",
    "embcat = emb.view(emb.shape[0], -1) # concatenate the vectors\n",
    "# Linear layer 1\n",
    "hprebn = embcat @ W1 + b1 # hidden layer pre-activation\n",
    "# BatchNorm layer\n",
    "bnmeani = 1/n*hprebn.sum(0, keepdim=True)\n",
    "bndiff = hprebn - bnmeani\n",
    "bndiff2 = bndiff**2\n",
    "bnvar = 1/(n-1)*(bndiff2).sum(0, keepdim=True) # note: Bessel's correction (dividing by n-1, not n)\n",
    "bnvar_inv = (bnvar + 1e-5)**-0.5\n",
    "bnraw = bndiff * bnvar_inv\n",
    "hpreact = bngain * bnraw + bnbias\n",
    "# Non-linearity\n",
    "h = torch.tanh(hpreact) # hidden layer\n",
    "# Linear layer 2\n",
    "logits = h @ W2 + b2 # output layer\n",
    "# cross entropy loss (same as F.cross_entropy(logits, Yb))\n",
    "logit_maxes = logits.max(1, keepdim=True).values\n",
    "norm_logits = logits - logit_maxes # subtract max for numerical stability\n",
    "counts = norm_logits.exp()\n",
    "counts_sum = counts.sum(1, keepdims=True)\n",
    "counts_sum_inv = counts_sum**-1 # if I use (1.0 / counts_sum) instead then I can't get backprop to be bit exact...\n",
    "probs = counts * counts_sum_inv\n",
    "logprobs = probs.log()\n",
    "loss = -logprobs[range(n), Yb].mean()\n",
    "\n",
    "# PyTorch backward pass\n",
    "for p in parameters:\n",
    "  p.grad = None\n",
    "for t in [logprobs, probs, counts, counts_sum, counts_sum_inv, # afaik there is no cleaner way\n",
    "          norm_logits, logit_maxes, logits, h, hpreact, bnraw,\n",
    "         bnvar_inv, bnvar, bndiff2, bndiff, hprebn, bnmeani,\n",
    "         embcat, emb]:\n",
    "  t.retain_grad()\n",
    "loss.backward()\n",
    "loss"
   ]
  },
  {
   "cell_type": "markdown",
   "id": "1e43fde6-a264-4c56-a6f8-01d80cc7a0c8",
   "metadata": {},
   "source": [
    "# Excercise-1: Below code has hard-coded derivatives of all variables"
   ]
  },
  {
   "cell_type": "markdown",
   "id": "93846948-17d6-4b76-942c-14b154a61db2",
   "metadata": {},
   "source": [
    "1. `dlogprobs`\n",
    "\n",
    "Now `logprobs` is just calculating the loss using the following formula $$loss = \\frac{-1}{n} \\sum Y_{true} \\times log(Y_{pred})$$ where $Y_{true}$ just provides the index of the true value\n",
    "\n",
    "Effectively what the loss is actually $$loss = \\frac{-1}{n} log(Y_{pred})$$ where $Y_{pred}$ has a shape of $batch \\times vocab$"
   ]
  },
  {
   "cell_type": "code",
   "execution_count": 55,
   "id": "96433fed-49a5-4237-bf07-40be20151519",
   "metadata": {},
   "outputs": [
    {
     "name": "stdout",
     "output_type": "stream",
     "text": [
      "| Exact : True | Absolute : True | Max Difference : 0.0\n"
     ]
    }
   ],
   "source": [
    "dlogprobs = torch.zeros_like(logprobs)\n",
    "dlogprobs[torch.arange(n),Yb] = -1.0/n\n",
    "\n",
    "cmp('logprobs',dlogprobs,logprobs)\n"
   ]
  },
  {
   "cell_type": "markdown",
   "id": "e355ef9b-aacf-4fb5-be4d-1853248670fd",
   "metadata": {},
   "source": [
    "2. `probs`\n",
    "\n",
    "Now derivative of probs w.r.t loss is given by \n",
    "$$\\frac{ \\delta L}{\\delta probs} = \\frac{\\delta L}{\\delta logprobs} \\times \\frac{\\delta logprobs}{\\delta probs}$$\n",
    "\n",
    "We have already calculated $\\frac{\\delta L}{\\delta logprobs}$. And $\\frac{\\delta logprobs}{\\delta probs}$ is given by\n",
    "$$\n",
    "\\frac{\\delta logprobs}{\\delta probs} = \\frac{1}{probs}\n",
    "$$\n"
   ]
  },
  {
   "cell_type": "code",
   "execution_count": 58,
   "id": "9c0e4141-c704-4cba-b023-ed8f17bac5e8",
   "metadata": {},
   "outputs": [
    {
     "name": "stdout",
     "output_type": "stream",
     "text": [
      "| Exact : True | Absolute : True | Max Difference : 0.0\n"
     ]
    }
   ],
   "source": [
    "dprobs = torch.zeros_like(probs)\n",
    "dprobs = 1.0/probs * dlogprobs\n",
    "\n",
    "cmp('probs',dprobs,probs)"
   ]
  },
  {
   "cell_type": "markdown",
   "id": "9c6c5d1e-46ef-4f7e-9dbe-e18f6348c490",
   "metadata": {},
   "source": [
    "3. `dcounts_sum_inv`\n",
    "\n",
    "Now derivative of `dcounts_sum_inv` w.r.t loss is given by\n",
    "$$\n",
    "\\frac{ \\delta L}{\\delta csi} = \\frac{\\delta L}{\\delta probs} \\times \\frac{\\delta probs}{\\delta csi}\n",
    "$$\n",
    "\n",
    "Therefore $\\frac{\\delta probs}{\\delta csi}$ is given by\n",
    "$$\n",
    "\\frac{\\delta probs}{\\delta csi} = counts\n",
    "$$\n",
    "\n"
   ]
  },
  {
   "cell_type": "code",
   "execution_count": 61,
   "id": "5d5c8f27-60cd-4a7f-a221-bb2ce1d738a2",
   "metadata": {},
   "outputs": [
    {
     "name": "stdout",
     "output_type": "stream",
     "text": [
      "| Exact : True | Absolute : True | Max Difference : 0.0\n"
     ]
    }
   ],
   "source": [
    "dcounts_sum_inv = torch.zeros_like(counts_sum_inv)\n",
    "dcounts_sum_inv = (counts * dprobs).sum(1,keepdims = True)\n",
    "\n",
    "cmp('d_counts_inv',dcounts_sum_inv,counts_sum_inv)"
   ]
  },
  {
   "cell_type": "markdown",
   "id": "f6eca03c-bdeb-4d8b-8a34-8cf1eb7df6a3",
   "metadata": {},
   "source": [
    "4 `dcounts`\n",
    "\n",
    "Same as `dcounts_sum_inv` we can calculate `dcounts` as follows\n",
    "$$\n",
    "\\frac{ \\delta L}{\\delta counts} = \\frac{\\delta L}{\\delta probs} \\times \\frac{\\delta probs}{\\delta counts}\n",
    "$$\n",
    "\n",
    "Therefore $\\frac{\\delta probs}{\\delta counts}$ is given by\n",
    "$$\n",
    "\\frac{\\delta probs}{\\delta csi} = csi\n",
    "$$\n"
   ]
  },
  {
   "cell_type": "code",
   "execution_count": 64,
   "id": "3b076667-556c-4908-860b-93b8e0f13df0",
   "metadata": {},
   "outputs": [
    {
     "name": "stdout",
     "output_type": "stream",
     "text": [
      "| Exact : False | Absolute : False | Max Difference : 0.005815508309751749\n"
     ]
    }
   ],
   "source": [
    "dcounts = torch.zeros_like(counts)\n",
    "\n",
    "dcounts  = counts_sum_inv * dprobs\n",
    "\n",
    "cmp('dcounts',dcounts,counts)"
   ]
  },
  {
   "cell_type": "markdown",
   "id": "6fcd412a-5b0f-47a6-b7b1-ad7a53967b6a",
   "metadata": {},
   "source": [
    "5 `dcounts_sum`"
   ]
  },
  {
   "cell_type": "code",
   "execution_count": 67,
   "id": "633017e7-9584-4b0c-8768-c1d864ba62ed",
   "metadata": {},
   "outputs": [
    {
     "name": "stdout",
     "output_type": "stream",
     "text": [
      "| Exact : True | Absolute : True | Max Difference : 0.0\n"
     ]
    }
   ],
   "source": [
    "dcounts_sum = torch.zeros_like(dcounts)\n",
    "\n",
    "dcounts_sum = -1/(counts_sum**2) * dcounts_sum_inv\n",
    "\n",
    "cmp('dcounts_sum', dcounts_sum,counts_sum)"
   ]
  },
  {
   "cell_type": "markdown",
   "id": "fa33f0b6-08a9-4987-b617-61e15e6e53f0",
   "metadata": {},
   "source": [
    "6 `dcounts_sum`"
   ]
  },
  {
   "cell_type": "code",
   "execution_count": 70,
   "id": "6b9655ba-be14-420a-8cab-dffa1cc6e3b1",
   "metadata": {},
   "outputs": [
    {
     "name": "stdout",
     "output_type": "stream",
     "text": [
      "| Exact : True | Absolute : True | Max Difference : 0.0\n"
     ]
    }
   ],
   "source": [
    "dcounts += torch.ones_like(counts) * dcounts_sum\n",
    "\n",
    "cmp('dcounts',dcounts,counts)"
   ]
  },
  {
   "cell_type": "markdown",
   "id": "673ddc07-432c-480a-a582-e15a325c9597",
   "metadata": {},
   "source": [
    "7 `dnorm_logits`"
   ]
  },
  {
   "cell_type": "code",
   "execution_count": 73,
   "id": "e4aee471-0180-418d-a932-035d2155d03d",
   "metadata": {},
   "outputs": [
    {
     "name": "stdout",
     "output_type": "stream",
     "text": [
      "| Exact : True | Absolute : True | Max Difference : 0.0\n"
     ]
    }
   ],
   "source": [
    "dnorm_logits = torch.zeros_like(norm_logits)\n",
    "\n",
    "dnorm_logits = counts * dcounts\n",
    "\n",
    "cmp('dnorm_logits',dnorm_logits,norm_logits)"
   ]
  },
  {
   "cell_type": "markdown",
   "id": "050b4044-f57f-4fd9-a3cf-322cec4b1a23",
   "metadata": {},
   "source": [
    "8 `dlogits`"
   ]
  },
  {
   "cell_type": "code",
   "execution_count": 78,
   "id": "92440e7c-4f2a-4f83-9faf-8e3e4c4fda65",
   "metadata": {},
   "outputs": [
    {
     "name": "stdout",
     "output_type": "stream",
     "text": [
      "| Exact : True | Absolute : True | Max Difference : 0.0\n"
     ]
    }
   ],
   "source": [
    "dlogits = torch.zeros_like(logits)\n",
    "dlogits = dnorm_logits + F.one_hot(logits.max(1).indices,num_classes = logits.shape[1]) * dlogits_maxes\n",
    "\n",
    "\n",
    "cmp('dlogits',dlogits,logits)"
   ]
  },
  {
   "cell_type": "markdown",
   "id": "cbb4d7f6-40fd-4ec3-b380-35ac2eac2ef3",
   "metadata": {},
   "source": [
    "9 `dlogits_maxes`"
   ]
  },
  {
   "cell_type": "code",
   "execution_count": 76,
   "id": "7da57728-188d-4d77-a7e4-205ee45b2bfc",
   "metadata": {},
   "outputs": [
    {
     "name": "stdout",
     "output_type": "stream",
     "text": [
      "| Exact : True | Absolute : True | Max Difference : 0.0\n"
     ]
    }
   ],
   "source": [
    "dlogits_maxes = torch.zeros_like(dlogits)\n",
    "dlogits_maxes = (-dnorm_logits).sum(1,keepdims = True)\n",
    "\n",
    "cmp('dlogit_maxes',dlogits_maxes,logit_maxes)"
   ]
  },
  {
   "cell_type": "markdown",
   "id": "efd4276b-7250-449b-8389-d51a1a18aab7",
   "metadata": {},
   "source": [
    "10 `dh`"
   ]
  },
  {
   "cell_type": "code",
   "execution_count": null,
   "id": "6141d1e5-1581-4193-b0ef-bd1caacf2e60",
   "metadata": {},
   "outputs": [],
   "source": [
    "print(h.shape,W2.shape,b2.shape,dlogits.shape)"
   ]
  },
  {
   "cell_type": "code",
   "execution_count": 80,
   "id": "49bd99ed-5532-49d5-812b-66c03b1b9203",
   "metadata": {},
   "outputs": [
    {
     "name": "stdout",
     "output_type": "stream",
     "text": [
      "| Exact : True | Absolute : True | Max Difference : 0.0\n"
     ]
    }
   ],
   "source": [
    "dh = torch.zeros_like(h)\n",
    "dh = dlogits @ torch.transpose(W2,0,1)\n",
    "\n",
    "cmp('dh',dh,h)"
   ]
  },
  {
   "cell_type": "markdown",
   "id": "5109fa45-83c7-4c87-b1b6-805954d183ff",
   "metadata": {},
   "source": [
    "11 `W2`"
   ]
  },
  {
   "cell_type": "code",
   "execution_count": 83,
   "id": "c91bfd0f-a1cc-46f0-9e5a-f48b995f0d0b",
   "metadata": {},
   "outputs": [
    {
     "name": "stdout",
     "output_type": "stream",
     "text": [
      "| Exact : True | Absolute : True | Max Difference : 0.0\n"
     ]
    }
   ],
   "source": [
    "dW2 = torch.zeros_like(W2)\n",
    "\n",
    "dW2 = torch.transpose(h,0,1) @ dlogits\n",
    "\n",
    "cmp('dW2',dW2,W2)"
   ]
  },
  {
   "cell_type": "markdown",
   "id": "7c1e654f-f40f-41b5-a526-27bfd2978e97",
   "metadata": {},
   "source": [
    "12 `db2`"
   ]
  },
  {
   "cell_type": "code",
   "execution_count": 86,
   "id": "d7e4e9a3-4a45-448a-9c5f-fd64c28c77b2",
   "metadata": {},
   "outputs": [
    {
     "name": "stdout",
     "output_type": "stream",
     "text": [
      "| Exact : True | Absolute : True | Max Difference : 0.0\n"
     ]
    }
   ],
   "source": [
    "db2 = dlogits.sum(0)\n",
    "\n",
    "cmp('db2',db2,b2)"
   ]
  },
  {
   "cell_type": "markdown",
   "id": "ba15733a-e2ae-462a-ad22-cd20ea87be53",
   "metadata": {},
   "source": [
    "13 `dhpreact`"
   ]
  },
  {
   "cell_type": "code",
   "execution_count": 89,
   "id": "f6d1b66f-44d2-46ce-8347-2f770266cd00",
   "metadata": {},
   "outputs": [
    {
     "name": "stdout",
     "output_type": "stream",
     "text": [
      "| Exact : True | Absolute : True | Max Difference : 0.0\n"
     ]
    }
   ],
   "source": [
    "dhpreact = (torch.ones_like(hpreact) - h**2)*dh\n",
    "cmp('dhpreact',dhpreact,hpreact)"
   ]
  },
  {
   "cell_type": "markdown",
   "id": "c0cb3cb4-4f0c-40c1-b0bd-7bb158efbbdf",
   "metadata": {},
   "source": [
    "14 `dbngain`"
   ]
  },
  {
   "cell_type": "code",
   "execution_count": 92,
   "id": "6e984292-acd4-41df-a606-e2430c226da0",
   "metadata": {},
   "outputs": [
    {
     "name": "stdout",
     "output_type": "stream",
     "text": [
      "| Exact : True | Absolute : True | Max Difference : 0.0\n"
     ]
    }
   ],
   "source": [
    "dbngain = torch.zeros_like(bngain)\n",
    "dbngain = (bnraw * dhpreact).sum(0,keepdims = True)\n",
    "cmp('dbngain',dbngain,bngain)"
   ]
  },
  {
   "cell_type": "markdown",
   "id": "73ea5399-effa-435c-9459-6b36fd6f43c7",
   "metadata": {},
   "source": [
    "15 `dbnraw`"
   ]
  },
  {
   "cell_type": "code",
   "execution_count": 95,
   "id": "8556eb8b-ffdb-41d1-ba85-cba734b1dedd",
   "metadata": {},
   "outputs": [
    {
     "name": "stdout",
     "output_type": "stream",
     "text": [
      "| Exact : True | Absolute : True | Max Difference : 0.0\n"
     ]
    }
   ],
   "source": [
    "dbnraw = torch.zeros_like(bnraw)\n",
    "\n",
    "dbnraw = bngain * dhpreact\n",
    "\n",
    "cmp('dbnraw',dbnraw,bnraw)\n",
    "# print(dbnraw.shape,dhpreact.shape, bngain.shape,(bngain*dhpreact).shape)"
   ]
  },
  {
   "cell_type": "markdown",
   "id": "d4d470e9-0454-455f-951d-7ad2dfc3e9ba",
   "metadata": {},
   "source": [
    "16 `dbnbias`"
   ]
  },
  {
   "cell_type": "code",
   "execution_count": 98,
   "id": "97f655c6-662c-4263-9158-3c996a7da1b1",
   "metadata": {},
   "outputs": [
    {
     "name": "stdout",
     "output_type": "stream",
     "text": [
      "| Exact : True | Absolute : True | Max Difference : 0.0\n"
     ]
    }
   ],
   "source": [
    "dbnbias = torch.zeros_like(bnbias)\n",
    "\n",
    "dbnbias = dhpreact.sum(0,keepdims = True)\n",
    "\n",
    "cmp('dbnbias',dbnbias,bnbias)\n",
    "# print(dhpreact.sum(0,keepdims = True).shape,dbnbias.shape)"
   ]
  },
  {
   "cell_type": "markdown",
   "id": "53e92e4a-8197-44af-a0b2-4f07137f13d9",
   "metadata": {},
   "source": [
    "17 `dbndiff`"
   ]
  },
  {
   "cell_type": "code",
   "execution_count": 112,
   "id": "aa18058b-90a7-4978-9a90-5cf824b207f7",
   "metadata": {},
   "outputs": [
    {
     "name": "stdout",
     "output_type": "stream",
     "text": [
      "| Exact : True | Absolute : True | Max Difference : 0.0\n"
     ]
    }
   ],
   "source": [
    "dbndiff = torch.zeros_like(bndiff)\n",
    "\n",
    "dbndiff = bnvar_inv * dbnraw \n",
    "dbndiff += (2*bndiff) * dbndiff2\n",
    "\n",
    "cmp('dbndiff',dbndiff,bndiff)\n",
    "# print(dbndiff.shape,dbnraw.shape,bnvar_inv.shape,bnvar.shape)"
   ]
  },
  {
   "cell_type": "markdown",
   "id": "50020fbb-9072-4b89-a577-3434c14520eb",
   "metadata": {},
   "source": [
    "18 `dbnvar_inv`"
   ]
  },
  {
   "cell_type": "code",
   "execution_count": 104,
   "id": "2881428f-3aa9-4814-85f1-7b8082c08947",
   "metadata": {},
   "outputs": [
    {
     "name": "stdout",
     "output_type": "stream",
     "text": [
      "| Exact : True | Absolute : True | Max Difference : 0.0\n"
     ]
    }
   ],
   "source": [
    "dbnvar_inv = (bndiff * dbnraw).sum(0,keepdims = True)\n",
    "\n",
    "cmp('dbnvar_inv',dbnvar_inv, bnvar_inv)"
   ]
  },
  {
   "cell_type": "markdown",
   "id": "cddf3c92-f12d-4d8f-a8e7-23688ac1bf39",
   "metadata": {},
   "source": [
    "19 `dbnvar`"
   ]
  },
  {
   "cell_type": "code",
   "execution_count": 107,
   "id": "58c7ac1c-53e5-4e93-9cf8-4e0eb986426a",
   "metadata": {},
   "outputs": [
    {
     "name": "stdout",
     "output_type": "stream",
     "text": [
      "| Exact : True | Absolute : True | Max Difference : 0.0\n"
     ]
    }
   ],
   "source": [
    "dbnvar = torch.zeros_like(bnvar)\n",
    "dbnvar = (-0.5 * (bnvar + 1e-5)**(-1.5)) * dbnvar_inv\n",
    "# print(dbnvar.shape,bnvar_inv.shape)\n",
    "\n",
    "cmp('dbnvar',dbnvar,bnvar)"
   ]
  },
  {
   "cell_type": "markdown",
   "id": "0f2a58ff-d6c6-4caa-963d-d9a8f4bef563",
   "metadata": {},
   "source": [
    "20 `dbndiff2`"
   ]
  },
  {
   "cell_type": "code",
   "execution_count": 110,
   "id": "c350400a-1143-4090-8041-440f999c9d3b",
   "metadata": {},
   "outputs": [
    {
     "name": "stdout",
     "output_type": "stream",
     "text": [
      "| Exact : True | Absolute : True | Max Difference : 0.0\n"
     ]
    }
   ],
   "source": [
    "dbndiff2 = (1.0/(n-1)) * torch.ones_like(bndiff2) * dbnvar\n",
    "\n",
    "cmp('dbndiff2',dbndiff2,bndiff2)"
   ]
  },
  {
   "cell_type": "markdown",
   "id": "d38794ce-2c42-4c94-896a-ce119ace10da",
   "metadata": {},
   "source": [
    "21 `dbmneai`"
   ]
  },
  {
   "cell_type": "code",
   "execution_count": 114,
   "id": "ee8f1f16-ca7a-414e-ad35-3a806941516d",
   "metadata": {},
   "outputs": [
    {
     "name": "stdout",
     "output_type": "stream",
     "text": [
      "| Exact : True | Absolute : True | Max Difference : 0.0\n"
     ]
    }
   ],
   "source": [
    "dbnmeani = torch.zeros_like(bnmeani)\n",
    "\n",
    "dbnmeani = -1.0 * dbndiff.sum(0,keepdims = True)\n",
    "\n",
    "cmp('dbnmeani',dbnmeani,bnmeani)\n",
    "# print(dbnmeani.shape,dbndiff.shape)"
   ]
  },
  {
   "cell_type": "markdown",
   "id": "0d345445-bb76-4d2b-ad79-6b3e25f249bd",
   "metadata": {},
   "source": [
    "22 `dbhprebn`"
   ]
  },
  {
   "cell_type": "code",
   "execution_count": 117,
   "id": "69b9b2b6-d13c-44c0-80a8-9b823e68fe88",
   "metadata": {},
   "outputs": [
    {
     "name": "stdout",
     "output_type": "stream",
     "text": [
      "| Exact : True | Absolute : True | Max Difference : 0.0\n"
     ]
    }
   ],
   "source": [
    "dbhprebn = torch.zeros_like(hprebn)\n",
    "\n",
    "dbhprebn = dbndiff + (1/n)*dbnmeani\n",
    "\n",
    "cmp('dbhprebn',dbhprebn,hprebn)\n",
    "# print(dbhprebn.shape,bnmeani.shape,bndiff.shape)"
   ]
  },
  {
   "cell_type": "markdown",
   "id": "c983e18c-0b70-41b8-92e8-2fa3697c4b73",
   "metadata": {},
   "source": [
    "23 `dbembcat`"
   ]
  },
  {
   "cell_type": "code",
   "execution_count": 120,
   "id": "98628886-ffea-4b45-807c-659476283148",
   "metadata": {},
   "outputs": [
    {
     "name": "stdout",
     "output_type": "stream",
     "text": [
      "| Exact : True | Absolute : True | Max Difference : 0.0\n"
     ]
    }
   ],
   "source": [
    "dbembcat = torch.zeros_like(embcat)\n",
    "\n",
    "dbembcat = dbhprebn @ torch.transpose(W1,0,1)\n",
    "\n",
    "\n",
    "cmp('dbembcat',dbembcat,embcat)\n",
    "# print(dbembcat.shape, dbhprebn.shape, W1.shape)"
   ]
  },
  {
   "cell_type": "markdown",
   "id": "972819aa-972f-4e18-9210-7c610d4cc513",
   "metadata": {},
   "source": [
    "24 `dW1`"
   ]
  },
  {
   "cell_type": "code",
   "execution_count": 123,
   "id": "8cfa2ec3-3f4f-463d-ad53-52957f5503ad",
   "metadata": {},
   "outputs": [
    {
     "name": "stdout",
     "output_type": "stream",
     "text": [
      "| Exact : True | Absolute : True | Max Difference : 0.0\n"
     ]
    }
   ],
   "source": [
    "dW1 = torch.zeros_like(W1)\n",
    "\n",
    "dW1 = torch.transpose(embcat,0,1) @ dbhprebn\n",
    "\n",
    "cmp('dW1',dW1,W1)\n",
    "# print(dbembcat.shape, dbhprebn.shape, W1.shape)"
   ]
  },
  {
   "cell_type": "markdown",
   "id": "4ef7e8d7-bfdc-4a19-b7a2-6b76cb25ebb9",
   "metadata": {},
   "source": [
    "25 `db1`"
   ]
  },
  {
   "cell_type": "code",
   "execution_count": 126,
   "id": "b3e5affc-fc81-485e-a4bc-9b453a90e4a7",
   "metadata": {},
   "outputs": [
    {
     "name": "stdout",
     "output_type": "stream",
     "text": [
      "| Exact : True | Absolute : True | Max Difference : 0.0\n"
     ]
    }
   ],
   "source": [
    "db1 = torch.zeros_like(b1)\n",
    "\n",
    "db1 = dbhprebn.sum(0,keepdims = True)\n",
    "\n",
    "\n",
    "cmp('db1',db1,b1)\n",
    "# print(db1.shape,dbhprebn.shape)"
   ]
  },
  {
   "cell_type": "markdown",
   "id": "dba0b8f8-0109-4f17-a5e3-abe201b04614",
   "metadata": {},
   "source": [
    "26 `demb`"
   ]
  },
  {
   "cell_type": "code",
   "execution_count": 135,
   "id": "1a7d8ae8-1a4f-4269-afae-b54a0b500d86",
   "metadata": {},
   "outputs": [
    {
     "name": "stdout",
     "output_type": "stream",
     "text": [
      "| Exact : True | Absolute : True | Max Difference : 0.0\n"
     ]
    }
   ],
   "source": [
    "dbemb = torch.zeros_like(emb)\n",
    "\n",
    "dbemb = dbembcat.view(dbembcat.shape[0],block_size,-1)\n",
    "\n",
    "\n",
    "cmp('dbemb',dbemb,emb)\n",
    "# print(emb.shape,dbembcat.shape)"
   ]
  },
  {
   "cell_type": "markdown",
   "id": "3c0e04b0-54ef-4b73-a259-ac207b6ea75e",
   "metadata": {},
   "source": [
    "27 `dC`"
   ]
  },
  {
   "cell_type": "code",
   "execution_count": 140,
   "id": "6ed71e16-3679-48e8-8649-3aadbcc76cee",
   "metadata": {},
   "outputs": [
    {
     "name": "stdout",
     "output_type": "stream",
     "text": [
      "| Exact : True | Absolute : True | Max Difference : 0.0\n"
     ]
    }
   ],
   "source": [
    "dC = torch.zeros_like(C)\n",
    "for k in range(Xb.shape[0]):\n",
    "    for j in range(Xb.shape[1]):\n",
    "        ix = Xb[k,j]\n",
    "        dC[ix] += dbemb[k,j]\n",
    "\n",
    "cmp('dC',dC,C)"
   ]
  },
  {
   "cell_type": "markdown",
   "id": "173f7a14-05d2-4c93-a0fa-a654bea564ed",
   "metadata": {},
   "source": [
    "# Excecise-2: Using the `cross entropy` loss for the loss"
   ]
  },
  {
   "cell_type": "code",
   "execution_count": 143,
   "id": "c200a819-b193-4c07-acdf-e6f918fda86c",
   "metadata": {},
   "outputs": [
    {
     "name": "stdout",
     "output_type": "stream",
     "text": [
      "fast_loss :  3.4920926094055176 diff :  0.0\n"
     ]
    }
   ],
   "source": [
    "loss_fast = F.cross_entropy(logits,Yb)\n",
    "\n",
    "print('fast_loss : ',loss_fast.item(),'diff : ',(loss_fast - loss).abs().item())"
   ]
  },
  {
   "cell_type": "markdown",
   "id": "b6c32d51-68ee-43e7-a780-955079c3b02d",
   "metadata": {},
   "source": [
    "We need to calculate $\\frac {\\delta \\mathbf{L}}{\\delta logits}$. The forumla for loss is given by\n",
    "$$loss = \\frac{-1}{n} \\sum Y_{true} \\times log(Y_{pred})$$"
   ]
  },
  {
   "cell_type": "code",
   "execution_count": 146,
   "id": "8b87dc62-1892-4f34-93a0-47536ce7e8f6",
   "metadata": {},
   "outputs": [
    {
     "name": "stdout",
     "output_type": "stream",
     "text": [
      "| Exact : False | Absolute : True | Max Difference : 5.3551048040390015e-09\n"
     ]
    }
   ],
   "source": [
    "dlogits = F.softmax(logits,1)\n",
    "dlogits[range(n),Yb] -= 1\n",
    "dlogits /= n\n",
    "\n",
    "cmp('dlogits',dlogits,logits)"
   ]
  },
  {
   "cell_type": "markdown",
   "id": "f6efb93d-fe0c-4364-ac3f-9fe31f053b78",
   "metadata": {},
   "source": [
    "# Excercise-3: Faster Batch Normalization"
   ]
  },
  {
   "cell_type": "code",
   "execution_count": 148,
   "id": "811f0314-783e-4cbd-9ae6-7905368be286",
   "metadata": {},
   "outputs": [
    {
     "name": "stdout",
     "output_type": "stream",
     "text": [
      "| Exact : False | Absolute : True | Max Difference : 4.656612873077393e-10\n"
     ]
    }
   ],
   "source": [
    "dhprebn = bngain*bnvar_inv/n * (n * dhpreact - dhpreact.sum(0) - n/(n-1) * bnraw*(dhpreact*bnraw).sum(0))\n",
    "\n",
    "cmp('dhprebn',dhprebn,hprebn)"
   ]
  },
  {
   "cell_type": "code",
   "execution_count": null,
   "id": "24622782-f8e3-4dc3-a7f5-770b0d162a3b",
   "metadata": {},
   "outputs": [],
   "source": []
  }
 ],
 "metadata": {
  "kernelspec": {
   "display_name": "Python [conda env:base] *",
   "language": "python",
   "name": "conda-base-py"
  },
  "language_info": {
   "codemirror_mode": {
    "name": "ipython",
    "version": 3
   },
   "file_extension": ".py",
   "mimetype": "text/x-python",
   "name": "python",
   "nbconvert_exporter": "python",
   "pygments_lexer": "ipython3",
   "version": "3.12.7"
  }
 },
 "nbformat": 4,
 "nbformat_minor": 5
}
